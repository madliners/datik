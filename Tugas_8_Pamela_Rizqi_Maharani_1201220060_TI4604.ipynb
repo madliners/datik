{
  "nbformat": 4,
  "nbformat_minor": 0,
  "metadata": {
    "colab": {
      "provenance": [],
      "authorship_tag": "ABX9TyNsHDgEYUqg7McadFZX/uzq",
      "include_colab_link": true
    },
    "kernelspec": {
      "name": "python3",
      "display_name": "Python 3"
    },
    "language_info": {
      "name": "python"
    }
  },
  "cells": [
    {
      "cell_type": "markdown",
      "metadata": {
        "id": "view-in-github",
        "colab_type": "text"
      },
      "source": [
        "<a href=\"https://colab.research.google.com/github/madliners/datik/blob/main/Tugas_8_Pamela_Rizqi_Maharani_1201220060_TI4604.ipynb\" target=\"_parent\"><img src=\"https://colab.research.google.com/assets/colab-badge.svg\" alt=\"Open In Colab\"/></a>"
      ]
    },
    {
      "cell_type": "code",
      "execution_count": null,
      "metadata": {
        "id": "dw4QYGUNHtb9"
      },
      "outputs": [],
      "source": [
        "import pandas as pd"
      ]
    },
    {
      "cell_type": "code",
      "source": [
        "from google.colab import files\n",
        "files.upload()"
      ],
      "metadata": {
        "id": "CO_h3-qQNbXN",
        "colab": {
          "base_uri": "https://localhost:8080/",
          "height": 1000
        },
        "outputId": "f9c6a699-4d43-4b4e-a575-792828bbb1cd"
      },
      "execution_count": null,
      "outputs": [
        {
          "output_type": "display_data",
          "data": {
            "text/plain": [
              "<IPython.core.display.HTML object>"
            ],
            "text/html": [
              "\n",
              "     <input type=\"file\" id=\"files-7d336f07-4c3f-4059-ae17-d27fc640c332\" name=\"files[]\" multiple disabled\n",
              "        style=\"border:none\" />\n",
              "     <output id=\"result-7d336f07-4c3f-4059-ae17-d27fc640c332\">\n",
              "      Upload widget is only available when the cell has been executed in the\n",
              "      current browser session. Please rerun this cell to enable.\n",
              "      </output>\n",
              "      <script>// Copyright 2017 Google LLC\n",
              "//\n",
              "// Licensed under the Apache License, Version 2.0 (the \"License\");\n",
              "// you may not use this file except in compliance with the License.\n",
              "// You may obtain a copy of the License at\n",
              "//\n",
              "//      http://www.apache.org/licenses/LICENSE-2.0\n",
              "//\n",
              "// Unless required by applicable law or agreed to in writing, software\n",
              "// distributed under the License is distributed on an \"AS IS\" BASIS,\n",
              "// WITHOUT WARRANTIES OR CONDITIONS OF ANY KIND, either express or implied.\n",
              "// See the License for the specific language governing permissions and\n",
              "// limitations under the License.\n",
              "\n",
              "/**\n",
              " * @fileoverview Helpers for google.colab Python module.\n",
              " */\n",
              "(function(scope) {\n",
              "function span(text, styleAttributes = {}) {\n",
              "  const element = document.createElement('span');\n",
              "  element.textContent = text;\n",
              "  for (const key of Object.keys(styleAttributes)) {\n",
              "    element.style[key] = styleAttributes[key];\n",
              "  }\n",
              "  return element;\n",
              "}\n",
              "\n",
              "// Max number of bytes which will be uploaded at a time.\n",
              "const MAX_PAYLOAD_SIZE = 100 * 1024;\n",
              "\n",
              "function _uploadFiles(inputId, outputId) {\n",
              "  const steps = uploadFilesStep(inputId, outputId);\n",
              "  const outputElement = document.getElementById(outputId);\n",
              "  // Cache steps on the outputElement to make it available for the next call\n",
              "  // to uploadFilesContinue from Python.\n",
              "  outputElement.steps = steps;\n",
              "\n",
              "  return _uploadFilesContinue(outputId);\n",
              "}\n",
              "\n",
              "// This is roughly an async generator (not supported in the browser yet),\n",
              "// where there are multiple asynchronous steps and the Python side is going\n",
              "// to poll for completion of each step.\n",
              "// This uses a Promise to block the python side on completion of each step,\n",
              "// then passes the result of the previous step as the input to the next step.\n",
              "function _uploadFilesContinue(outputId) {\n",
              "  const outputElement = document.getElementById(outputId);\n",
              "  const steps = outputElement.steps;\n",
              "\n",
              "  const next = steps.next(outputElement.lastPromiseValue);\n",
              "  return Promise.resolve(next.value.promise).then((value) => {\n",
              "    // Cache the last promise value to make it available to the next\n",
              "    // step of the generator.\n",
              "    outputElement.lastPromiseValue = value;\n",
              "    return next.value.response;\n",
              "  });\n",
              "}\n",
              "\n",
              "/**\n",
              " * Generator function which is called between each async step of the upload\n",
              " * process.\n",
              " * @param {string} inputId Element ID of the input file picker element.\n",
              " * @param {string} outputId Element ID of the output display.\n",
              " * @return {!Iterable<!Object>} Iterable of next steps.\n",
              " */\n",
              "function* uploadFilesStep(inputId, outputId) {\n",
              "  const inputElement = document.getElementById(inputId);\n",
              "  inputElement.disabled = false;\n",
              "\n",
              "  const outputElement = document.getElementById(outputId);\n",
              "  outputElement.innerHTML = '';\n",
              "\n",
              "  const pickedPromise = new Promise((resolve) => {\n",
              "    inputElement.addEventListener('change', (e) => {\n",
              "      resolve(e.target.files);\n",
              "    });\n",
              "  });\n",
              "\n",
              "  const cancel = document.createElement('button');\n",
              "  inputElement.parentElement.appendChild(cancel);\n",
              "  cancel.textContent = 'Cancel upload';\n",
              "  const cancelPromise = new Promise((resolve) => {\n",
              "    cancel.onclick = () => {\n",
              "      resolve(null);\n",
              "    };\n",
              "  });\n",
              "\n",
              "  // Wait for the user to pick the files.\n",
              "  const files = yield {\n",
              "    promise: Promise.race([pickedPromise, cancelPromise]),\n",
              "    response: {\n",
              "      action: 'starting',\n",
              "    }\n",
              "  };\n",
              "\n",
              "  cancel.remove();\n",
              "\n",
              "  // Disable the input element since further picks are not allowed.\n",
              "  inputElement.disabled = true;\n",
              "\n",
              "  if (!files) {\n",
              "    return {\n",
              "      response: {\n",
              "        action: 'complete',\n",
              "      }\n",
              "    };\n",
              "  }\n",
              "\n",
              "  for (const file of files) {\n",
              "    const li = document.createElement('li');\n",
              "    li.append(span(file.name, {fontWeight: 'bold'}));\n",
              "    li.append(span(\n",
              "        `(${file.type || 'n/a'}) - ${file.size} bytes, ` +\n",
              "        `last modified: ${\n",
              "            file.lastModifiedDate ? file.lastModifiedDate.toLocaleDateString() :\n",
              "                                    'n/a'} - `));\n",
              "    const percent = span('0% done');\n",
              "    li.appendChild(percent);\n",
              "\n",
              "    outputElement.appendChild(li);\n",
              "\n",
              "    const fileDataPromise = new Promise((resolve) => {\n",
              "      const reader = new FileReader();\n",
              "      reader.onload = (e) => {\n",
              "        resolve(e.target.result);\n",
              "      };\n",
              "      reader.readAsArrayBuffer(file);\n",
              "    });\n",
              "    // Wait for the data to be ready.\n",
              "    let fileData = yield {\n",
              "      promise: fileDataPromise,\n",
              "      response: {\n",
              "        action: 'continue',\n",
              "      }\n",
              "    };\n",
              "\n",
              "    // Use a chunked sending to avoid message size limits. See b/62115660.\n",
              "    let position = 0;\n",
              "    do {\n",
              "      const length = Math.min(fileData.byteLength - position, MAX_PAYLOAD_SIZE);\n",
              "      const chunk = new Uint8Array(fileData, position, length);\n",
              "      position += length;\n",
              "\n",
              "      const base64 = btoa(String.fromCharCode.apply(null, chunk));\n",
              "      yield {\n",
              "        response: {\n",
              "          action: 'append',\n",
              "          file: file.name,\n",
              "          data: base64,\n",
              "        },\n",
              "      };\n",
              "\n",
              "      let percentDone = fileData.byteLength === 0 ?\n",
              "          100 :\n",
              "          Math.round((position / fileData.byteLength) * 100);\n",
              "      percent.textContent = `${percentDone}% done`;\n",
              "\n",
              "    } while (position < fileData.byteLength);\n",
              "  }\n",
              "\n",
              "  // All done.\n",
              "  yield {\n",
              "    response: {\n",
              "      action: 'complete',\n",
              "    }\n",
              "  };\n",
              "}\n",
              "\n",
              "scope.google = scope.google || {};\n",
              "scope.google.colab = scope.google.colab || {};\n",
              "scope.google.colab._files = {\n",
              "  _uploadFiles,\n",
              "  _uploadFilesContinue,\n",
              "};\n",
              "})(self);\n",
              "</script> "
            ]
          },
          "metadata": {}
        },
        {
          "output_type": "stream",
          "name": "stdout",
          "text": [
            "Saving Data Datik 8.xlsx to Data Datik 8.xlsx\n"
          ]
        },
        {
          "output_type": "execute_result",
          "data": {
            "text/plain": [
              "{'Data Datik 8.xlsx': b'PK\\x03\\x04\\x14\\x00\\x06\\x00\\x08\\x00\\x00\\x00!\\x00b\\xee\\x9dh^\\x01\\x00\\x00\\x90\\x04\\x00\\x00\\x13\\x00\\x08\\x02[Content_Types].xml \\xa2\\x04\\x02(\\xa0\\x00\\x02\\x00\\x00\\x00\\x00\\x00\\x00\\x00\\x00\\x00\\x00\\x00\\x00\\x00\\x00\\x00\\x00\\x00\\x00\\x00\\x00\\x00\\x00\\x00\\x00\\x00\\x00\\x00\\x00\\x00\\x00\\x00\\x00\\x00\\x00\\x00\\x00\\x00\\x00\\x00\\x00\\x00\\x00\\x00\\x00\\x00\\x00\\x00\\x00\\x00\\x00\\x00\\x00\\x00\\x00\\x00\\x00\\x00\\x00\\x00\\x00\\x00\\x00\\x00\\x00\\x00\\x00\\x00\\x00\\x00\\x00\\x00\\x00\\x00\\x00\\x00\\x00\\x00\\x00\\x00\\x00\\x00\\x00\\x00\\x00\\x00\\x00\\x00\\x00\\x00\\x00\\x00\\x00\\x00\\x00\\x00\\x00\\x00\\x00\\x00\\x00\\x00\\x00\\x00\\x00\\x00\\x00\\x00\\x00\\x00\\x00\\x00\\x00\\x00\\x00\\x00\\x00\\x00\\x00\\x00\\x00\\x00\\x00\\x00\\x00\\x00\\x00\\x00\\x00\\x00\\x00\\x00\\x00\\x00\\x00\\x00\\x00\\x00\\x00\\x00\\x00\\x00\\x00\\x00\\x00\\x00\\x00\\x00\\x00\\x00\\x00\\x00\\x00\\x00\\x00\\x00\\x00\\x00\\x00\\x00\\x00\\x00\\x00\\x00\\x00\\x00\\x00\\x00\\x00\\x00\\x00\\x00\\x00\\x00\\x00\\x00\\x00\\x00\\x00\\x00\\x00\\x00\\x00\\x00\\x00\\x00\\x00\\x00\\x00\\x00\\x00\\x00\\x00\\x00\\x00\\x00\\x00\\x00\\x00\\x00\\x00\\x00\\x00\\x00\\x00\\x00\\x00\\x00\\x00\\x00\\x00\\x00\\x00\\x00\\x00\\x00\\x00\\x00\\x00\\x00\\x00\\x00\\x00\\x00\\x00\\x00\\x00\\x00\\x00\\x00\\x00\\x00\\x00\\x00\\x00\\x00\\x00\\x00\\x00\\x00\\x00\\x00\\x00\\x00\\x00\\x00\\x00\\x00\\x00\\x00\\x00\\x00\\x00\\x00\\x00\\x00\\x00\\x00\\x00\\x00\\x00\\x00\\x00\\x00\\x00\\x00\\x00\\x00\\x00\\x00\\x00\\x00\\x00\\x00\\x00\\x00\\x00\\x00\\x00\\x00\\x00\\x00\\x00\\x00\\x00\\x00\\x00\\x00\\x00\\x00\\x00\\x00\\x00\\x00\\x00\\x00\\x00\\x00\\x00\\x00\\x00\\x00\\x00\\x00\\x00\\x00\\x00\\x00\\x00\\x00\\x00\\x00\\x00\\x00\\x00\\x00\\x00\\x00\\x00\\x00\\x00\\x00\\x00\\x00\\x00\\x00\\x00\\x00\\x00\\x00\\x00\\x00\\x00\\x00\\x00\\x00\\x00\\x00\\x00\\x00\\x00\\x00\\x00\\x00\\x00\\x00\\x00\\x00\\x00\\x00\\x00\\x00\\x00\\x00\\x00\\x00\\x00\\x00\\x00\\x00\\x00\\x00\\x00\\x00\\x00\\x00\\x00\\x00\\x00\\x00\\x00\\x00\\x00\\x00\\x00\\x00\\x00\\x00\\x00\\x00\\x00\\x00\\x00\\x00\\x00\\x00\\x00\\x00\\x00\\x00\\x00\\x00\\x00\\x00\\x00\\x00\\x00\\x00\\x00\\x00\\x00\\x00\\x00\\x00\\x00\\x00\\x00\\x00\\x00\\x00\\x00\\x00\\x00\\x00\\x00\\x00\\x00\\x00\\x00\\x00\\x00\\x00\\x00\\x00\\x00\\x00\\x00\\x00\\x00\\x00\\x00\\x00\\x00\\x00\\x00\\x00\\x00\\x00\\x00\\x00\\x00\\x00\\x00\\x00\\x00\\x00\\x00\\x00\\x00\\x00\\x00\\x00\\x00\\x00\\x00\\x00\\x00\\x00\\x00\\x00\\x00\\x00\\x00\\x00\\x00\\x00\\x00\\x00\\x00\\x00\\x00\\x00\\x00\\x00\\x00\\x00\\x00\\x00\\x00\\x00\\x00\\x00\\x00\\x00\\x00\\x00\\x00\\x00\\x00\\x00\\x00\\x00\\x00\\x00\\x00\\x00\\x00\\x00\\x00\\x00\\x00\\x00\\x00\\x00\\x00\\x00\\x00\\x00\\x00\\x00\\x00\\x00\\x00\\xac\\x94\\xcbN\\xc30\\x10E\\xf7H\\xfcC\\xe4-J\\xdc\\xb2@\\x085\\xed\\x82\\xc7\\x12*Q>\\xc0\\xc4\\x93\\xc6\\xaac[\\x9eii\\xff\\x9e\\x89\\xfb\\x10B\\xa1\\x15j7\\xb1\\x12\\xcf\\xdc{2\\xf1\\xcdh\\xb2nm\\xb6\\x82\\x88\\xc6\\xbbR\\x0c\\x8b\\x81\\xc8\\xc0U^\\x1b7/\\xc5\\xc7\\xec%\\xbf\\x17\\x19\\x92rZY\\xef\\xa0\\x14\\x1b@1\\x19__\\x8df\\x9b\\x00\\x98q\\xb7\\xc3R4D\\xe1AJ\\xac\\x1ah\\x15\\x16>\\x80\\xe3\\x9d\\xda\\xc7V\\x11\\xdf\\xc6\\xb9\\x0c\\xaaZ\\xa89\\xc8\\xdb\\xc1\\xe0NV\\xde\\x118\\xca\\xa9\\xd3\\x10\\xe3\\xd1\\x13\\xd4ji){^\\xf3\\xe3-I\\x04\\x8b\"{\\xdc\\x16v^\\xa5P!XS)bR\\xb9r\\xfa\\x97K\\xbes(\\xb83\\xd5`c\\x02\\xde0\\x86\\x90\\xbd\\x0e\\xdd\\xce\\xdf\\x06\\xbb\\xbe7\\x1eM4\\x1a\\xb2\\xa9\\x8a\\xf4\\xaaZ\\xc6\\x90k+\\xbf|\\\\|z\\xbf(\\x8e\\x8b\\xf4P\\xfa\\xba6\\x15h_-[\\x9e@\\x81!\\x82\\xd2\\xd8\\x00Pk\\x8b\\xb4\\x16\\xad2n\\xcf}\\xc4?\\x15\\xa3L\\xcb\\xf0\\xc2 \\xdd\\xfb%\\xe1\\x13\\x1c\\xc4\\xdf\\x1bd\\xba\\x9e\\x8f\\x90dN\\x18\"m,\\xe0\\xa5\\xc7\\x9eDO97*\\x82~\\xa7\\xc8\\xc9\\xb88\\xc0O\\xedc\\x1c|n\\xa6\\xd1\\x07\\xe4\\x04E\\xf8\\xff\\x14\\xf6\\x11\\xe9\\xba\\xf3\\xc0B\\x10\\xc9\\xc0!$}\\x87\\xed\\xe0\\xc8\\xe9;{\\xec\\xd0\\xe5[\\x83\\xee\\xf1\\x96\\xe9\\x7f2\\xfe\\x06\\x00\\x00\\xff\\xff\\x03\\x00PK\\x03\\x04\\x14\\x00\\x06\\x00\\x08\\x00\\x00\\x00!\\x00\\xb5U0#\\xf4\\x00\\x00\\x00L\\x02\\x00\\x00\\x0b\\x00\\x08\\x02_rels/.rels \\xa2\\x04\\x02(\\xa0\\x00\\x02\\x00\\x00\\x00\\x00\\x00\\x00\\x00\\x00\\x00\\x00\\x00\\x00\\x00\\x00\\x00\\x00\\x00\\x00\\x00\\x00\\x00\\x00\\x00\\x00\\x00\\x00\\x00\\x00\\x00\\x00\\x00\\x00\\x00\\x00\\x00\\x00\\x00\\x00\\x00\\x00\\x00\\x00\\x00\\x00\\x00\\x00\\x00\\x00\\x00\\x00\\x00\\x00\\x00\\x00\\x00\\x00\\x00\\x00\\x00\\x00\\x00\\x00\\x00\\x00\\x00\\x00\\x00\\x00\\x00\\x00\\x00\\x00\\x00\\x00\\x00\\x00\\x00\\x00\\x00\\x00\\x00\\x00\\x00\\x00\\x00\\x00\\x00\\x00\\x00\\x00\\x00\\x00\\x00\\x00\\x00\\x00\\x00\\x00\\x00\\x00\\x00\\x00\\x00\\x00\\x00\\x00\\x00\\x00\\x00\\x00\\x00\\x00\\x00\\x00\\x00\\x00\\x00\\x00\\x00\\x00\\x00\\x00\\x00\\x00\\x00\\x00\\x00\\x00\\x00\\x00\\x00\\x00\\x00\\x00\\x00\\x00\\x00\\x00\\x00\\x00\\x00\\x00\\x00\\x00\\x00\\x00\\x00\\x00\\x00\\x00\\x00\\x00\\x00\\x00\\x00\\x00\\x00\\x00\\x00\\x00\\x00\\x00\\x00\\x00\\x00\\x00\\x00\\x00\\x00\\x00\\x00\\x00\\x00\\x00\\x00\\x00\\x00\\x00\\x00\\x00\\x00\\x00\\x00\\x00\\x00\\x00\\x00\\x00\\x00\\x00\\x00\\x00\\x00\\x00\\x00\\x00\\x00\\x00\\x00\\x00\\x00\\x00\\x00\\x00\\x00\\x00\\x00\\x00\\x00\\x00\\x00\\x00\\x00\\x00\\x00\\x00\\x00\\x00\\x00\\x00\\x00\\x00\\x00\\x00\\x00\\x00\\x00\\x00\\x00\\x00\\x00\\x00\\x00\\x00\\x00\\x00\\x00\\x00\\x00\\x00\\x00\\x00\\x00\\x00\\x00\\x00\\x00\\x00\\x00\\x00\\x00\\x00\\x00\\x00\\x00\\x00\\x00\\x00\\x00\\x00\\x00\\x00\\x00\\x00\\x00\\x00\\x00\\x00\\x00\\x00\\x00\\x00\\x00\\x00\\x00\\x00\\x00\\x00\\x00\\x00\\x00\\x00\\x00\\x00\\x00\\x00\\x00\\x00\\x00\\x00\\x00\\x00\\x00\\x00\\x00\\x00\\x00\\x00\\x00\\x00\\x00\\x00\\x00\\x00\\x00\\x00\\x00\\x00\\x00\\x00\\x00\\x00\\x00\\x00\\x00\\x00\\x00\\x00\\x00\\x00\\x00\\x00\\x00\\x00\\x00\\x00\\x00\\x00\\x00\\x00\\x00\\x00\\x00\\x00\\x00\\x00\\x00\\x00\\x00\\x00\\x00\\x00\\x00\\x00\\x00\\x00\\x00\\x00\\x00\\x00\\x00\\x00\\x00\\x00\\x00\\x00\\x00\\x00\\x00\\x00\\x00\\x00\\x00\\x00\\x00\\x00\\x00\\x00\\x00\\x00\\x00\\x00\\x00\\x00\\x00\\x00\\x00\\x00\\x00\\x00\\x00\\x00\\x00\\x00\\x00\\x00\\x00\\x00\\x00\\x00\\x00\\x00\\x00\\x00\\x00\\x00\\x00\\x00\\x00\\x00\\x00\\x00\\x00\\x00\\x00\\x00\\x00\\x00\\x00\\x00\\x00\\x00\\x00\\x00\\x00\\x00\\x00\\x00\\x00\\x00\\x00\\x00\\x00\\x00\\x00\\x00\\x00\\x00\\x00\\x00\\x00\\x00\\x00\\x00\\x00\\x00\\x00\\x00\\x00\\x00\\x00\\x00\\x00\\x00\\x00\\x00\\x00\\x00\\x00\\x00\\x00\\x00\\x00\\x00\\x00\\x00\\x00\\x00\\x00\\x00\\x00\\x00\\x00\\x00\\x00\\x00\\x00\\x00\\x00\\x00\\x00\\x00\\x00\\x00\\x00\\x00\\x00\\x00\\x00\\x00\\x00\\x00\\x00\\x00\\x00\\x00\\x00\\x00\\x00\\x00\\x00\\x00\\x00\\x00\\x00\\x00\\x00\\x00\\x00\\x00\\x00\\x00\\x00\\x00\\x00\\x00\\x00\\x00\\x00\\x00\\x00\\x00\\xac\\x92MO\\xc30\\x0c\\x86\\xefH\\xfc\\x87\\xc8\\xf7\\xd5\\xdd\\x90\\x10BKwAH\\xbb!T~\\x80I\\xdc\\x0f\\xb5\\x8d\\xa3$\\x1b\\xdd\\xbf\\'\\x1c\\x10T\\x1a\\x83\\x03G\\x7f\\xbd~\\xfc\\xca\\xdb\\xdd<\\x8d\\xea\\xc8!\\xf6\\xe24\\xac\\x8b\\x12\\x14;#\\xb6w\\xad\\x86\\x97\\xfaqu\\x07*&r\\x96Fq\\xac\\xe1\\xc4\\x11v\\xd5\\xf5\\xd5\\xf6\\x99GJy(v\\xbd\\x8f*\\xab\\xb8\\xa8\\xa1K\\xc9\\xdf#F\\xd3\\xf1D\\xb1\\x10\\xcf.W\\x1a\\t\\x13\\xa5\\x1c\\x86\\x16=\\x99\\x81Z\\xc6MY\\xdeb\\xf8\\xae\\x01\\xd5BS\\xed\\xad\\x86\\xb0\\xb77\\xa0\\xea\\x93\\xcf\\x9b\\x7f\\xd7\\x96\\xa6\\xe9\\r?\\x889L\\xec\\xd2\\x99\\x15\\xc8sbg\\xd9\\xae|\\xc8l!\\xf5\\xf9\\x1aUSh9i\\xb0b\\x9er:\"y_dl\\xc0\\xf3D\\x9b\\xbf\\x13\\xfd|-N\\x9c\\xc8R\"4\\x12\\xf82\\xcfG\\xc7%\\xa0\\xf5\\x7fZ\\xb44\\xf1\\xcb\\x9dy\\xc47\\t\\xc3\\xab\\xc8\\xf0\\xc9\\x82\\x8b\\x1f\\xa8\\xde\\x01\\x00\\x00\\xff\\xff\\x03\\x00PK\\x03\\x04\\x14\\x00\\x06\\x00\\x08\\x00\\x00\\x00!\\x00!\\x1e\\xbcm\\xb1\\x03\\x00\\x00+\\t\\x00\\x00\\x0f\\x00\\x00\\x00xl/workbook.xml\\xacU]o\\xab8\\x10}_i\\xff\\x03\\xe2\\x9d\\x82\\t\\x04\\x82\\x9a^\\xf1\\xa9\\x8d\\xb6\\xb9\\xaa\\x92\\xdcv\\xf7)r\\xc1)V\\x00\\xb3\\xc64\\xc9V\\xf7\\xbf\\xef\\x18B\\xfa\\x91\\xabU\\xb6w\\xab\\xd4\\xc6\\xf6p|f\\xe6\\xccp\\xfde_\\x16\\xca3\\xe1\\re\\xd5TEW\\x86\\xaa\\x90*e\\x19\\xad\\x9e\\xa6\\xea\\xb7U\\xa2\\xb9\\xaa\\xd2\\x08\\\\e\\xb8`\\x15\\x99\\xaa\\x07\\xd2\\xa8_n~\\xfd\\xe5z\\xc7\\xf8\\xf6\\x91\\xb1\\xad\\x02\\x00U3Us!jO\\xd7\\x9b4\\'%n\\xaeXM*8\\xd90^b\\x01K\\xfe\\xa475\\'8krBDY\\xe8\\xa6a\\x8c\\xf5\\x12\\xd3J\\xed\\x11<~\\t\\x06\\xdblhJ\"\\x96\\xb6%\\xa9D\\x0f\\xc2I\\x81\\x05\\xd0orZ7\\x03Z\\x99^\\x02Wb\\xbemk-ee\\r\\x10\\x8f\\xb4\\xa0\\xe2\\xd0\\x81\\xaaJ\\x99z\\xb3\\xa7\\x8aq\\xfcX\\x80\\xdb{d+{\\x0e\\xbf1\\xfc#\\x03\\x06s\\xb8\\t\\x8e\\xce\\xae*i\\xcaY\\xc36\\xe2\\n\\xa0\\xf5\\x9e\\xf4\\x99\\xff\\xc8\\xd0\\x11z\\x17\\x82\\xfdy\\x0c.C\\xb2tN\\x9e\\xa9\\xcc\\xe1\\x89\\x15\\x1f\\x7f\\x92\\xd5\\xf8\\x845~\\x05C\\xc6O\\xa3!\\x90V\\xa7\\x15\\x0f\\x82\\xf7I4\\xfb\\xc4\\xcdTo\\xae7\\xb4 \\xf7\\xbdt\\x15\\\\\\xd7_q)3U\\xa8J\\x81\\x1b\\x11gT\\x90l\\xaa:\\xb0d;\\xf2n\\x83\\xb7u\\xd0\\xd2\\x02NM\\xc72mU\\xbf9\\xc9\\xf9\\x8e+\\x19\\xd9\\xe0\\xb6\\x10+\\x10\\xf2\\x00\\x0f\\x86\\x8692\\x0ci\\t\\xc2\\xf0\\x0bAx\\x85\\x05\\tY%@\\x87G\\xbf~Vs\\x1dv\\x983P\\xb8\\xb2 \\x7f\\xb5\\x94\\x13(,\\xd0\\x17\\xf8\\n#N=\\xfc\\xd8\\xdca\\x91+-/\\xfa\\x086Pr\\x82\\x14[V\\xb6\\x15\\xed\\xcaX\\x1c:\\xb9Q\\\\h\\xe5\\xe1\\xaa\\xc91\\'5\\xa3U\\xaf\\xc4\\x1a\\xa2\\xc5*\\\\\\xe8u\\tE\\xc3\\xff.s^\\xad\\x1b\\xd1f\\xe0\\xc4\\xfa#\\xce\\x1a\\xa7k\\x9a\\xe9C\\xb15\\xfa2\\x9e\\xc7\\xcbU\\xbcP,\\xe5\\xce\\x9f/\\xf5\\xc8_\\xcd~\\xd7\\xdf\\xd4\\x01>/\\xba\\xffP\\t8\\x95\\xe1\\xd5!\\xbe}\\x0c\\xfa\\xe7\\x8f\\xb1\\x86PpoP\\xfb\\x9d\\xe0\\n<\\xcf\\xa2[\\xc8\\xf8\\x12?C\\xfeAe\\xd9\\xb1=\\xcc \\xc1\\xee\\xfa\\xc5\\x89\"\\xc7\\xb7|W\\x0b\\xcd(\\xd1\\xac\\x18\\xd9\\x9a\\x1b\\x19\\x89\\x16F\\xa1\\x13\\x8e\\x1d\\xd3\\x8c&\\xd1w\\xf0\\x82\\x8f\\xbd\\x94\\xe1V\\xe4GMI\\xcc\\xa9j\\x81\\x80\\xce\\x8e\\xe6x?\\x9c \\xc3ki\\xf6z\\xff\\x8bq\\xfc\\xd3\\xe4\\xfca\\x18\\xce\\xbeKOe\\xf7\\xbc\\xa7d\\xd7\\xbc\\xaaO.\\x95\\xfd\\x03\\xad2\\xb6\\x9b\\xaa\\x1a\\x925sx\\xbf\\xdcu\\x87\\x0f4\\x139\\xf4\\xeb\\x89e\\x82I\\xbf\\xf7\\x1b\\xa1O90F\\x86T\\xaalQ\\x92\\xd9T}\\t\\xac\\x08\\x8dL\\x14i\\x89\\xedC\\x00\\x12\\xcb\\xd5\\x023\\t\\xb5\\xc4q\\x9d\\xc0O\\xc2\\xc81\\xac\\x8e\\x91\\xfe\\x86R\\xd7\\xa7\\x81Z7+UW[K\\xd9\\xbb\\x11|\\x10\\xe4,\\xa3\\x0b\\xcf\\xdc\\x93w\\xf0Y\\x86\\xba\\xec\\r\\xaf\\xa5\\xb8H\\xa1\\x96\\xe4\\xd4\\x19N\\x90aN\\xa4\\x05\\xd9\\x8b\\xdbFt3\\xc8\\x98\\x02=d\\x19\\xbecL,\\xcd\\x88G\\xb6f\\xb9\\x13Ss\\xad\\x91\\xa9\\x85Vd\\xc6\\xb6\\x13Gq`\\xcb\\xfc\\xc8\\xef\\x8c\\xf7\\x7ft\\xdb\\xae\\x9a\\xbc\\xe1\\x03&YB\\x95\\x88\\x15\\xc7\\xe9\\x16>{\\x0b\\xb2\\tp\\x03J\\xea\\x1d\\x02\\xbeo\\xc9\\x06\\xb6\\x1b\\x18#\\xa0h%\\x08b\\x89&\\x86\\x16\\x04cK\\xb3\\xa3dd;(\\nc;y%+\\xdd\\xdf|\\xb2\\xd7\\xb9z\\xf76\\xc1\\xa2\\x85> [@\\xb7\\xf6\\xe4\\x98\\x1cwO\\x9b\\x9b~\\xe3\\x98\\xa7wE\\xe7-\"\\x19\\xf7\\xe3\\xdb\\xfff\\xb8\\x04\\xef\\x0br\\xa1qr\\x7f\\xa1a\\xf8u\\xbe\\x9a_h{\\x1b\\xaf\\xd6\\x0f\\xc9\\xa5\\xc6\\xfe<\\x88\\xfc\\xcb\\xed\\xfd\\xc5\\xc2\\xffs\\x15\\xff1\\\\\\xa1\\xff0\\xa0z\\x97p9v2\\xd5\\x07\\x99\\xdc\\xfc\\x03\\x00\\x00\\xff\\xff\\x03\\x00PK\\x03\\x04\\x14\\x00\\x06\\x00\\x08\\x00\\x00\\x00!\\x00\\x81>\\x94\\x97\\xf3\\x00\\x00\\x00\\xba\\x02\\x00\\x00\\x1a\\x00\\x08\\x01xl/_rels/workbook.xml.rels \\xa2\\x04\\x01(\\xa0\\x00\\x01\\x00\\x00\\x00\\x00\\x00\\x00\\x00\\x00\\x00\\x00\\x00\\x00\\x00\\x00\\x00\\x00\\x00\\x00\\x00\\x00\\x00\\x00\\x00\\x00\\x00\\x00\\x00\\x00\\x00\\x00\\x00\\x00\\x00\\x00\\x00\\x00\\x00\\x00\\x00\\x00\\x00\\x00\\x00\\x00\\x00\\x00\\x00\\x00\\x00\\x00\\x00\\x00\\x00\\x00\\x00\\x00\\x00\\x00\\x00\\x00\\x00\\x00\\x00\\x00\\x00\\x00\\x00\\x00\\x00\\x00\\x00\\x00\\x00\\x00\\x00\\x00\\x00\\x00\\x00\\x00\\x00\\x00\\x00\\x00\\x00\\x00\\x00\\x00\\x00\\x00\\x00\\x00\\x00\\x00\\x00\\x00\\x00\\x00\\x00\\x00\\x00\\x00\\x00\\x00\\x00\\x00\\x00\\x00\\x00\\x00\\x00\\x00\\x00\\x00\\x00\\x00\\x00\\x00\\x00\\x00\\x00\\x00\\x00\\x00\\x00\\x00\\x00\\x00\\x00\\x00\\x00\\x00\\x00\\x00\\x00\\x00\\x00\\x00\\x00\\x00\\x00\\x00\\x00\\x00\\x00\\x00\\x00\\x00\\x00\\x00\\x00\\x00\\x00\\x00\\x00\\x00\\x00\\x00\\x00\\x00\\x00\\x00\\x00\\x00\\x00\\x00\\x00\\x00\\x00\\x00\\x00\\x00\\x00\\x00\\x00\\x00\\x00\\x00\\x00\\x00\\x00\\x00\\x00\\x00\\x00\\x00\\x00\\x00\\x00\\x00\\x00\\x00\\x00\\x00\\x00\\x00\\x00\\x00\\x00\\x00\\x00\\x00\\x00\\x00\\x00\\x00\\x00\\x00\\x00\\x00\\x00\\x00\\x00\\x00\\x00\\x00\\x00\\x00\\x00\\x00\\x00\\x00\\x00\\x00\\x00\\x00\\x00\\x00\\x00\\x00\\x00\\x00\\x00\\x00\\x00\\x00\\x00\\x00\\x00\\x00\\x00\\x00\\x00\\x00\\x00\\x00\\x00\\x00\\x00\\x00\\x00\\x00\\x00\\x00\\x00\\x00\\xacRMK\\xc40\\x10\\xbd\\x0b\\xfe\\x870w\\x9bv\\x15\\x11\\xd9t/\"\\xecU\\xeb\\x0f\\x08\\xc9\\xb4)\\xdb&!3~\\xf4\\xdf\\x1b*\\xba]X\\xd6K/\\x03o\\x86y\\xef\\xcd\\xc7v\\xf75\\x0e\\xe2\\x03\\x13\\xf5\\xc1+\\xa8\\x8a\\x12\\x04z\\x13l\\xef;\\x05o\\xcd\\xf3\\xcd\\x03\\x08b\\xed\\xad\\x1e\\x82G\\x05\\x13\\x12\\xec\\xea\\xeb\\xab\\xed\\x0b\\x0e\\x9as\\x13\\xb9>\\x92\\xc8,\\x9e\\x148\\xe6\\xf8(%\\x19\\x87\\xa3\\xa6\"D\\xf4\\xb9\\xd2\\x864j\\xce0u2js\\xd0\\x1d\\xcaMY\\xde\\xcb\\xb4\\xe4\\x80\\xfa\\x84S\\xec\\xad\\x82\\xb4\\xb7\\xb7 \\x9a)f\\xe5\\xff\\xb9C\\xdb\\xf6\\x06\\x9f\\x82y\\x1f\\xd1\\xf3\\x19\\tI<\\ry\\x00\\xd1\\xe8\\xd4!+\\xf8\\xc1E\\xf6\\x08\\xf2\\xbc\\xfcfMy\\xcek\\xc1\\xa3\\xfa\\x0c\\xe5\\x1c\\xabK\\x1e\\xaa5=|\\x86t \\x87\\xc8G\\x1f\\x7f)\\x92s\\xe5\\xa2\\x99\\xbbU\\xef\\xe1tB\\xfb\\xca)\\xbf\\xdb\\xf2,\\xcb\\xf4\\xeff\\xe4\\xc9\\xc7\\xd5\\xdf\\x00\\x00\\x00\\xff\\xff\\x03\\x00PK\\x03\\x04\\x14\\x00\\x06\\x00\\x08\\x00\\x00\\x00!\\x00B\\x12\\xf9\\nW\\x03\\x00\\x00Z\\n\\x00\\x00\\x18\\x00\\x00\\x00xl/worksheets/sheet1.xml\\x9c\\x92[\\x8f\\xda0\\x10F\\xdf+\\xed\\x7f\\x88\\xfc\\x1e\\x9c+\\x0b\\x11aECiy\\xabz\\xd9w\\xe3L\\x88\\x85/\\xa9mn\\xaa\\xfa\\xdf;\\t\\x82]\\x89\\x17\\xb4R\"M\\x1c\\xe7\\x9c\\x99\\xf8\\x9b\\xbd\\x9c\\x94\\x0c\\x0e`\\x9d0\\xba$\\xf1(\"\\x01hnj\\xa1\\xb7%\\xf9\\xfdk\\x15NH\\xe0<\\xd35\\x93FCI\\xce\\xe0\\xc8\\xcb\\xfc\\xe9\\xd3\\xech\\xec\\xce\\xb5\\x00>@\\x82v%i\\xbd\\xef\\nJ\\x1doA172\\x1dh|\\xd3\\x18\\xab\\x98\\xc7G\\xbb\\xa5\\xae\\xb3\\xc0\\xea\\xe1#%i\\x12Ec\\xaa\\x98\\xd0\\xe4B(\\xec#\\x0c\\xd34\\x82\\xc3\\xd2\\xf0\\xbd\\x02\\xed/\\x10\\x0b\\x92y\\xec\\xdf\\xb5\\xa2sW\\x9a\\xe2\\x8f\\xe0\\x14\\xb3\\xbb}\\x17r\\xa3:Dl\\x84\\x14\\xfe<@I\\xa0x\\xb1\\xdejc\\xd9F\\xe2\\xdc\\xa78c<8Y\\xbc\\x12\\xbc\\xd3\\xabfX\\xbf3)\\xc1\\xadq\\xa6\\xf1#$\\xd3K\\xcf\\xf7\\xe3O\\xe9\\x942~#\\xdd\\xcf\\xff\\x10&\\xce\\xa8\\x85\\x83\\xe8\\x0f\\xf0\\r\\x95|\\xac\\xa58\\xbf\\xb1\\x927X\\xfaA\\xd8\\xf8\\x06\\xeb\\x7f\\x97-\\xf6\\xa2.\\xc9\\xdf\\xe7*\\xca\\x93\\xc9*\\t\\xe3e\\xb5\\x08\\xb3\\xe7\\xe98\\\\\\xc4\\xf9\\x970K\\x97\\x93\\xcfi\\xbeZTy\\xf5\\x8f\\xccg\\xb5\\xc0\\x13\\xee\\xa7\\n,4%Y\\xc4\\xc5\\xd71\\xa1\\xf3\\xd9\\x90\\x9fW\\x01G\\xf7\\xae\\x0e<\\xdb\\xfc\\x04\\t\\xdc\\x03:b\\x12\\xf4\\xf1\\xdc\\x18\\xb3\\xeb7\\xaeq)B\\xa2\\x1b6\\xf4D\\xc6\\xbd8@\\x05R\\x96d\\x9dc\\xc2\\xff\\x0c\\x0e,Q@o\\x86\\xf7\\xf5\\xd5\\xb6\\x1a\\x02\\xfd\\xdd\\x0654l/\\xfd\\x0fs\\xfc\\x06b\\xdbz\\xd4f#d\\r\\x89(\\xea\\xf3\\x12\\x1c\\xc7\\x88\\xa2z\\x94\\xf6\\xdc\\xff\\x00\\x00\\x00\\xff\\xff\\x00\\x00\\x00\\xff\\xff\\x94\\x95QN\\x840\\x14E\\xb7B\\xba\\x00\\x99\\x02\\x05\\x9d\\x00\\x89\\x9d\\x02\\xeb H\\xe2\\xd7\\x8c\\x19\\xc8\\xa8\\xbb\\x97\\xaa\\x9d\\xbew[\\x13\\xf9#\\xdc\\x03\\xb9=}\\x85zy\\x9d\\xe7\\xd5\\x8c\\xeb\\xd8\\xd6\\xd7\\xcb{rm\\x84\\x14\\xc9\\xf26\\x9e\\x97\\xed\\xeaX\\x89\\xe4C\\x16\\xe3t|\\xf94\\xf32\\xcd\\xe7\\xb5\\x11\\x87\\x87\\\\\\x89\\xb6\\x9e,\\xfbl\\xe1Fd\"\\xd9\\x82e\\xbb{k\\x0fuzk\\xebt\\xfa%tHHN\\x9cB\"\\xe3\\x84\\t\\x89\\x9c\\x13]H\\x14\\x9c\\xe8CBqb\\x08\\x89\\xf2N\\xa4\\x9b\\x9c\\xbb\\xa1m\\xb9\\xff7da+\\xd5\\xba\\x81\\x95k\\x97y{\\x15\\xb8\\t\\t\\xe9K}o\\x81\\x89 \\xf0\\x96\\x8ev\\xc8@]O\\xc3\\x12\\x9d\\xb0\\xf6$e>\\xf2=>,\\xec|\\xc0>k\\x97y\\x1f\\x8f\\xe0#$$T6\\x11\\x04\\xde\\xd2\\xb1\\x0e8(4T {\\xa0\\xa1\\xac\\xfc\\xac3\\x1f\\xc5\\x1e\\x1f\\x16v>`k\\xb4\\xcb\\xbc\\x8f\\'\\xf0\\x11\\x12\\x12\\xd6c\"\\x08\\xce\\x07\\xed\\x90\\xc1\\xa6\\xf44,\\xe1t\\x0f4\\x94\\xa5\\x7f\\x94\\xf9P{|X\\xd8\\xf9\\x80\\xa5h\\x97y\\x1f\\x12\\n\\x9d\"\\x08X5\\x11\\x04\\x07\\x84\\x96\\x08\\x0e\\x0c\\r\\x15\\xd8\\x1ah(\\xff:0\\xe5\\x1e!\\x16vB`\\xd6\\xb5\\xcb\\x88\\x10\\xfc\\xbaF\\x10\\xfc\\xbcF\\x10\\x9c\\x10Z\"\\xc3\\x13\\xc3\\x1a\\xc2\\x93\\x03\\r%\\x99\\x9f\\x9f\\tI\\xfd\\xff\\xe7\\x0b\\x00\\x00\\xff\\xff\\x00\\x00\\x00\\xff\\xff\\xb2)HLO\\xf5M,J\\xcf\\xcc+V\\xc8IM+\\xb1U2\\xd03WR(\\xcaL\\xcf\\x80\\xb1K\\xf2\\x0b\\xc0\\xa2\\xa6J\\nI\\xf9%%\\xf9\\xb90^FjbJj\\x11\\x88g\\xac\\xa4\\x90\\x96\\x9f_\\x02\\xe3\\xe8\\xdb\\xd9\\xe8\\x97\\xe7\\x17e\\x17g\\xa4\\xa6\\x96\\xd8\\x01\\x00\\x00\\x00\\xff\\xff\\x03\\x00PK\\x03\\x04\\x14\\x00\\x06\\x00\\x08\\x00\\x00\\x00!\\x00\\xf6`\\xb4A\\xb8\\x07\\x00\\x00\\x11\"\\x00\\x00\\x13\\x00\\x00\\x00xl/theme/theme1.xml\\xecZ\\xcd\\x8f\\x1b\\xb7\\x15\\xbf\\x07\\xc8\\xff@\\xcc]\\xd6\\xcc\\xe8{a9\\xd0\\xa77\\xf6\\xeez\\xe1\\x95]\\xe4HI\\x94\\x86^\\xcep@R\\xbb+\\x14\\x01\\n\\xe7\\xd4K\\x81\\x02i\\xd1K\\x81\\xdez(\\x8a\\x06h\\x80\\x06\\xb9\\xe4\\x8f1`#M\\xff\\x88<rF\\x9a\\xe1\\x8a\\x8a\\xbd\\xfe@\\x92bw/3\\xd4\\xef=\\xfe\\xe6\\xbd\\xc7\\xc77\\x8fs\\xf7\\x93\\xab\\x98\\xa1\\x0b\"$\\xe5I\\xd7\\x0b\\xee\\xf8\\x1e\"\\xc9\\x8c\\xcfi\\xb2\\xeczO&\\xe3J\\xdbCR\\xe1d\\x8e\\x19OH\\xd7[\\x13\\xe9}r\\xef\\xe3\\x8f\\xee\\xe2\\x03\\x15\\x91\\x98 \\x90O\\xe4\\x01\\xeez\\x91R\\xe9A\\xb5*g0\\x8c\\xe5\\x1d\\x9e\\x92\\x04~[p\\x11c\\x05\\xb7bY\\x9d\\x0b|\\tzcV\\r}\\xbfY\\x8d1M<\\x94\\xe0\\x18\\xd4>Z,\\xe8\\x8c\\xa0\\x89V\\xe9\\xdd\\xdb(\\x1f1\\xb8M\\x94\\xd4\\x033&\\xce\\xb4jbI\\x18\\xec\\xfc<\\xd0\\x08\\xb9\\x96\\x03&\\xd0\\x05f]\\x0f\\xe6\\x99\\xf3\\xcb\\t\\xb9R\\x1ebX*\\xf8\\xa1\\xeb\\xf9\\xe6\\xcf\\xab\\xde\\xbb[\\xc5\\x07\\xb9\\x10S{dKrc\\xf3\\x97\\xcb\\xe5\\x02\\xf3\\xf3\\xd0\\xcc)\\x96\\xd3\\xed\\xa4\\xfe(l\\xd7\\x83\\xad~\\x03`j\\x177j\\xeb\\xff\\xad>\\x03\\xc0\\xb3\\x19<i\\xc6\\xa5\\xac3h4\\xfdv\\x98cK\\xa0\\xec\\xd2\\xa1\\xbb\\xd3\\nj6\\xbe\\xa4\\xbf\\xb6\\xc39\\xe84\\xfba\\xdd\\xd2o@\\x99\\xfe\\xfa\\xee3\\x8e;\\xa3a\\xc3\\xc2\\x1bP\\x86o\\xec\\xe0{~\\xd8\\xef\\xd4,\\xbc\\x01e\\xf8\\xe6\\x0e\\xbe>\\xea\\xb5\\xc2\\x91\\x857\\xa0\\x88\\xd1\\xe4|\\x17\\xddl\\xb5\\xdb\\xcd\\x1c\\xbd\\x85,8;t\\xc2;\\xcd\\xa6\\xdf\\x1a\\xe6\\xf0\\x02\\x05\\xd1\\xb0\\x8d.=\\xc5\\x82\\'j_\\xac\\xc5\\xf8\\x19\\x17c\\x00h \\xc3\\x8a&H\\xadS\\xb2\\xc03\\x88\\xe2^\\xaa\\xb8DC*S\\x86\\xd7\\x1eJq\\xc2%\\x0c\\xfba\\x10@\\xe8\\xd5\\xfdp\\xfbo,\\x8e\\x0f\\x08.Ik^\\xc0D\\xee\\x0ci>H\\xce\\x04MU\\xd7{\\x00Z\\xbd\\x12\\xe4\\xe57\\xdf\\xbcx\\xfe\\xf5\\x8b\\xe7\\xffy\\xf1\\xc5\\x17/\\x9e\\xff\\x0b\\x1d\\xd1e\\xa42U\\x96\\xdc!N\\x96e\\xb9\\x1f\\xfe\\xfe\\xc7\\xff\\xfd\\xf5w\\xe8\\xbf\\xff\\xfe\\xdb\\x0f_\\xfe\\xc9\\x8d\\x97e\\xfc\\xab\\x7f\\xfe\\xfe\\xd5\\xb7\\xdf\\xfd\\x94zXj\\x85)^\\xfe\\xf9\\xabW_\\x7f\\xf5\\xf2/\\x7f\\xf8\\xfe\\x1f_:\\xb4\\xf7\\x04\\x9e\\x96\\xe1\\x13\\x1a\\x13\\x89N\\xc8%z\\xcccx@c\\n\\x9b?\\x99\\x8a\\x9bIL\"L-\\t\\x1c\\x81n\\x87\\xea\\x91\\x8a,\\xe0\\xc9\\x1a3\\x17\\xaeOl\\x13>\\x15\\x90e\\\\\\xc0\\xfb\\xabg\\x16\\xd7\\xb3H\\xac\\x14u\\xcc\\xfc0\\x8a-\\xe01\\xe7\\xac\\xcf\\x85\\xd3\\x00\\x0f\\xf5\\\\%\\x0bOV\\xc9\\xd2=\\xb9X\\x95q\\x8f1\\xbep\\xcd=\\xc0\\x89\\xe5\\xe0\\xd1*\\x85\\xf4J]*\\x07\\x11\\xb1h\\x9e2\\x9c(\\xbc$\\tQH\\xff\\xc6\\xcf\\tq<\\xddg\\x94Zv=\\xa63\\xc1%_(\\xf4\\x19E}L\\x9d&\\x99\\xd0\\xa9\\x15H\\x85\\xd0!\\x8d\\xc1/k\\x17Ap\\xb5e\\x9b\\xe3\\xa7\\xa8\\xcf\\x99\\xeb\\xa9\\x87\\xe4\\xc2F\\xc2\\xb2\\xc0\\xccA~B\\x98e\\xc6\\xfbx\\xa5p\\xecR9\\xc11+\\x1b\\xfc\\x08\\xab\\xc8E\\xf2l-fe\\xdcH*\\xf0\\xf4\\x920\\x8eFs\"\\xa5K\\xe6\\x91\\x80\\xe7-9\\xfd!\\x86\\xc4\\xe6t\\xfb1[\\xc76R(z\\xee\\xd2y\\x849/#\\x87\\xfc|\\x10\\xe18ur\\xa6IT\\xc6~*\\xcf!D1:\\xe5\\xca\\x05?\\xe6\\xf6\\n\\xd1\\xf7\\xe0\\x07\\x9c\\xecu\\xf7SJ,w\\xbf>\\x11<\\x81\\x04W\\xa6T\\x04\\x88\\xfee%\\x1c\\xbe\\xbcO\\xb8\\xbd\\x1e\\xd7l\\x81\\x89+\\xcb\\xf4Dle\\xd7\\x9e\\xa0\\xce\\xe8\\xe8\\xaf\\x96Vh\\x1f\\x11\\xc2\\xf0%\\x9e\\x13\\x82\\x9e|\\xea`\\xd0\\xe7\\xa9e\\xf3\\x82\\xf4\\x83\\x08\\xb2\\xca!q\\x05\\xd6\\x03l\\xc7\\xaa\\xbeO\\x88\\x842I\\xd75\\xbb)\\xf2\\x88J+d\\xcf\\xc8\\x92\\xef\\xe1s\\xbc\\xbe\\x96x\\xd68\\x89\\xb1\\xd8\\xa7\\xf9\\x04\\xbcn\\x85\\xeeT\\xc0btPx\\xc4f\\xe7e\\xe0\\t\\x85\\xf2\\x0f\\xe2\\xc5i\\x94G\\x12t\\x94\\x82{\\xb4O\\xebi\\x84\\xad\\xbdK\\xdfKw\\xbc\\xae\\x85\\xe5\\xbf7Yc\\xb0.\\x9f\\xddt]\\x82\\x0c\\xb9\\xb1\\x0c$\\xf67\\xb6\\xcd\\x043k\\x82\"`&\\x98\\xa2#W\\xba\\x05\\x11\\xcb\\xfd\\x85\\x88\\xdeW\\x8d\\xd8\\xca)\\xb7\\xb0\\x17m\\xe1\\x06(\\x8c\\xacz\\'\\xa6\\xc9\\xeb\\x8a\\x9f\\x13,\\x04\\xbf\\xfcyj\\x9f\\x0fV\\xf5\\xb8\\x15\\xbfK\\xbd\\xb3/\\xaf\\x1c^\\xabr\\xf6\\xe1~\\x85\\xb5\\xcd\\x10\\xaf\\x92S\\x02\\xdb\\xc9n\\xe2\\xba-mnK\\x1b\\xef\\xff\\xbe\\xb4\\xd9\\xb7\\x96o\\x0b\\x9a\\xdb\\x82\\xe6\\xb6\\xa0q\\xbd\\x82}\\x90\\x82\\xa6\\xa8a\\xa0\\xbc)Z=\\xa6\\xf1\\x13\\xef\\xed\\xfb,(cgj\\xcd\\xc8\\x914\\xad\\x1f\\t\\xaf5\\xf31\\x0c\\x9a\\x9e\\x94iLn\\xfb\\x80i\\x04\\x97\\xfay`\\x02\\x0b\\xb7\\x14\\xd8\\xc8 \\xc1\\xd5o\\xa8\\x8a\\xce\"\\x9cB\\x7f(0]\\xcc\\xa5\\xccU/%J\\xb9\\x84\\xb6\\x91\\x196\\xfdTrM\\xb7i>\\xad\\xe2c>\\xcf\\xda\\x9d\\xa6\\xbf\\xe4g&\\x94X\\x15\\xe3~\\x03\\x1aO\\xd98\\xb4\\xaaT\\x86n\\xb6\\xf2A\\xcdoC\\xdd\\xb0]\\x9aV\\xeb\\x86\\x80\\x96\\xbd\\t\\x89\\xd2d6\\x89\\x9a\\x83Dk3\\xf8\\x1a\\x12\\xbas\\xf6~Xt\\x1c,\\xdaZ\\xfd\\xc6U;\\xa6\\x00j[\\xaf\\xc0{7\\x82\\xb7\\xf5\\xae\\xd7\\xa8g\\x8c\\xa0#\\x075\\xfa\\\\\\xfb)s\\xf5\\xc6\\xbb\\xda9\\xef\\xd5\\xd3\\xfb\\x8c\\xc9\\xca\\x11\\x00\\xad\\xc5]Ow4\\xd7\\xbd\\x8f\\xa7\\x9f.\\x0b\\xb57\\xf0\\xb4E\\xc28%\\x0b+\\x9b\\x84\\xf1\\x95)\\xf0d\\x04o\\xc3yt\\x96\\xfb\\xee?\\x15p7\\xf5u\\xa7p\\xa9EO\\x9bb\\xb3\\x1a\\n\\x1a\\xad\\xf6\\x87\\xf0\\xb5N\"\\xd7r\\x03K\\xca\\x99\\x82%\\xe8\\x12\\xd6x\\x08\\x8b\\xceC3\\x9cv\\xbd\\x05\\xf4\\x8d\\xe12N!x\\xa4~\\xf7\\xc2l\\t\\x87/3%\\xb2\\x15\\xff6\\xa9%\\x15R\\r\\xb1\\x8c2\\x8b\\x9b\\xac\\x93\\xf9\\'\\xa6\\x8a\\x08\\xc4h\\xdc\\xf5\\xf4\\xf3o\\xc3\\x81%&\\x89d\\xe4:\\xb0t\\x7f\\xa9\\xe4B\\xbd\\xe0~i\\xe4\\xc0\\xeb\\xb6\\x97\\xc9bAf\\xaa\\xec\\xf7\\xd2\\x88\\xb6tv\\x0b)>K\\x16\\xce_\\x8d\\xf8\\xdb\\x83\\xb5$_\\x81\\xbb\\xcf\\xa2\\xf9%\\x9a\\xb2\\x95x\\x8c!\\xc4\\x1a\\xad@{wN%\\x1c\\x1f\\x04\\x99\\xab\\xe7\\x14\\xce\\xc3\\xb6\\x99\\xac\\x88\\xbfk;S\\x9e\\xfd\\xadC\\xae\"\\x1fc\\x96F8\\xdfR\\xca\\xd9<\\x83\\x9b\\reK\\xc7\\xdcmmP\\xba\\xcb\\x9f\\x19\\x0c\\xbak\\xc2\\xe9R\\xef\\xb0\\xef\\xbc\\xed\\xbe~\\xaf\\xd6\\x96+\\xf6\\xc7N\\xb1iZiEo\\x9b\\xeel\\xfa\\xe1v\\xf9\\x12\\xabb\\x17\\xb5Xe\\xb9\\xfbz\\xce\\xedl\\x92\\x1d\\x04\\xaas\\x9bx\\xf7\\xbd\\xbfD\\xad\\x98\\xcc\\xa2\\xa6\\x19\\xef\\xe6a\\x9d\\xb4\\xf3Q\\x9b\\xda{\\xac\\x08J\\xbbOs\\x8f\\xdd\\xb6\\x9b\\x84\\xd3\\x12o\\xbb\\xf5\\x83\\xdc\\xf5\\xa8\\xd5;\\xc4\\xa6\\xb04\\x81o\\x0e\\xce\\xcbg\\xdb|\\xfa\\x0c\\x92\\xc7\\x10N\\x11W,;\\xedf\\t\\xdc\\x99\\xd22=\\x15\\xc6\\xb7S>_\\xe7\\x97Lf\\x89&\\xf3\\xb9.J\\xb3T\\xfe\\x98,\\x10\\x9d_u\\xbd\\xd0U9\\xe6\\x87\\xc7y5\\xc0\\x12@\\x9b\\x9a\\x17V\\xd8V\\xd0Y\\xed\\xd9\\x82z\\xb3\\xcbE\\xb3\\x05\\xbb\\x15\\xce\\xca\\xd8k\\xf5\\xaa-\\xbc\\x95\\xd8\\x1c\\xb3n\\x85Mk\\xd1E[]mN\\xd4u\\xadnf\\xd6\\x0e\\xcb\\x9e\\xda\\xa4ac)\\xb8\\xda\\xb5\"\\xb4\\xc9\\x05\\x86\\xd29;\\xcc\\xcdr/\\xe4\\x99+\\x95W\\xdap\\x85V\\x82v\\xbd\\xdf\\xfa\\x8d^}\\x106\\x06\\x15\\xbf\\xdd\\x18U\\xea\\xb5\\xba_i7z\\xb5J\\xaf\\xd1\\xa8\\x05\\xa3F\\xe0\\x0f\\xfb\\xe1\\xe7@OEq\\xd0\\xc8\\xbe|\\x18\\xc3i\\x10[\\xe7\\xdf?\\x98\\xf1\\x9do \\xe2\\xcd\\x81\\xd7\\x9d\\x19\\x8f\\xab\\xdc|\\xe3P5\\xde7\\xdf@\\x04\\xe1\\xfeo \\xc0\\x91@+\\x1c\\x05\\xf5\\xb0\\x17\\x0e*\\x83a\\xd0\\xac\\xd4\\xc3a\\xb3\\xd2n\\xd5z\\x95A\\xd8\\x1c\\x86=\\xd8\\xb4\\x9b\\xe3\\xde\\xe7\\x1e\\xba0\\xe0\\xa0?\\x1c\\x8e\\xc7\\x8d\\xb0\\xd2\\x1c\\x00\\xae\\xee\\xf7\\x1a\\x95^\\xbf6\\xa84\\xdb\\xa3~8\\x0eF\\xf5\\xa1\\x0f\\xe0|\\xfb\\xb9\\x82\\xb7\\x18\\x9dss[\\xc0\\xa5\\xe1u\\xefG\\x00\\x00\\x00\\xff\\xff\\x03\\x00PK\\x03\\x04\\x14\\x00\\x06\\x00\\x08\\x00\\x00\\x00!\\x00\\xbc@g\\x8d+\\x03\\x00\\x00\\xbc\\x08\\x00\\x00\\r\\x00\\x00\\x00xl/styles.xml\\xbcV\\xdbn\\xdb0\\x0c}\\x1f\\xb0\\x7f\\x10\\xf4\\xee\\xfa\\x928K\\x02\\xdbE\\xd3\\xd4@\\x81\\xad\\x18\\xd0\\x0e\\xd8\\xabb\\xcb\\x89P]\\x0cYI\\x9d\\x0e\\xfb\\xf7Q\\xbe$.\\xdamY6\\xec\\xa5\\x91(\\xfa\\xf0\\x90\\x87\\x94\\x1a]\\xd6\\x82\\xa3\\x1d\\xd5\\x15S2\\xc6\\xfe\\x85\\x87\\x11\\x95\\x99\\xca\\x99\\\\\\xc7\\xf8\\xcbC\\xeaL1\\xaa\\x0c\\x919\\xe1J\\xd2\\x18\\xefi\\x85/\\x93\\xf7\\xef\\xa2\\xca\\xec9\\xbd\\xdfPj\\x10@\\xc8*\\xc6\\x1bc\\xca\\xb9\\xebV\\xd9\\x86\\nR]\\xa8\\x92J8)\\x94\\x16\\xc4\\xc0V\\xaf\\xdd\\xaa\\xd4\\x94\\xe4\\x95\\xfdHp7\\xf0\\xbc\\x89+\\x08\\x93\\xb8E\\x98\\x8b\\xec\\x14\\x10A\\xf4\\xe3\\xb6t2%Jb\\xd8\\x8aqf\\xf6\\r\\x16F\"\\x9b\\xdf\\xae\\xa5\\xd2d\\xc5\\x81j\\xed\\x8fI\\x86j\\x7f\\xa2\\x03T\\xeb>Hc}\\x15G\\xb0L\\xabJ\\x15\\xe6\\x02p]U\\x14,\\xa3\\xaf\\xe9\\xce\\xdc\\x99K\\xb2#\\x12 \\x9f\\x87\\xe4\\x87\\xae\\x17\\xbc\\xc8\\xbd\\xd6g\"\\x8d]Mw\\xcc\\xca\\x87\\x93\\xa8P\\xd2T(S[ib\\x1c\\x00Q[\\x82\\xf9\\xa3TO2\\xb5G\\xa0p\\xe7\\x95D\\xd53\\xda\\x11\\x0e\\x16\\x1f\\xbbI\\x94)\\xae42 \\x1dT\\xae\\xb1H\"h\\xebqU\\x1aU\\xa1;\\xa2\\xb5z\\xb2\\xbe\\x05\\x11\\x8c\\xef\\xdb\\xb3\\xc0\\x1a\\x1a\\xc9;g\\xc1@\\x00kt-\\x99\\x96R\\x12\\xad\\xac\\xd7\\xff\\t\\xd8\\xc4\\xad 0\\xe3|P\\x8b\\xd6\\x90D\\xd04\\x86j\\x99\\xc2)\\xea\\xd6\\x0f\\xfb\\x12\\x92\\x96\\xd0\\xdf-o8\\xfa\\xad\\xf7Z\\x93\\xbd\\x1f\\x84\\x83\\x0f\\xdc& \\xa4\\xaat\\x0e\\xf3tT\\xa17%\\x11\\xa7\\x85\\x81Bh\\xb6\\xde\\xd8_\\xa3J\\xf8\\xbbR\\xc6@\\xcf%Q\\xce\\xc8ZI\\xc2m\\xedZ\\x90\\x97_\\xc2\\x1c\\xc2\\xc8\\xc5\\xd8l`dz\\xc5\\x98\\xcciM\\xf3\\x18O\\xc6\\r\\x17\\x1b\\xa2\\x8bp\\x92\\x7f\\xc3\\xa5\\xa1r\\x92;P\\xee\\x19\\x9f\\xe4\\xdf&\\xf7vn]\\x92 UF9\\xbf\\xb7\\xc9}-\\x0eu\\xb3\\x8dZ\\x17HnE*\\xcc-$\\x087\\x93\\xed\\xa8~\\t\"u\\xcb\\xb6V\\xed\\xc6\\xd6n\\x88\\xd6b\\x0f`Gg\\xc1\\xa2\\xba8\\xe0\\xff))\\x1f\\xc6\\xb0\\xfb\\x1a\\x91\\xb2\\xe4\\xfbE\\xd3 v\\xca\\xda\\xfd\\x15gk)\\xa8\\x1dY\\x9b4\\xe9\\xb7h\\xa34{\\x86\\x94\\xed\\x94fpN\\xdb\\xb9\\xaa\\x8b\\x9fW\\x060m\\x1b\\xbe\\xaa\\xcc+\\x12\\xf6:8R\\xf8\\x17\\x94\\x9a\\xbaC\\xa5\\x07r\\xbe\\x10\\xf3 \\x0b\\xb27K\\x8c\\xef\\xec\\xc3\\xc0\\x07\\xc5Ym\\x197L\\xbe!$`\\xe6\\xf5\\xb15<\\xdb\\xe9\\xc6^\\xf2M\\xd3\\x1c\\xa2@\\x87\\xe4\\xb4 [n\\x1e\\x0e\\x871>\\xae?\\xd1\\x9cm\\x05\\\\\\x8b\\x9d\\xd7g\\xb6S\\xa6\\x81\\x88\\xf1q\\xfd\\xd1N\\xa7?\\xb11hm>V0N\\xf0\\x8b\\xb6\\x9a\\xc5\\xf8\\xdb\\xcd\\xe2\\xc3ly\\x93\\x06\\xce\\xd4[L\\x9d\\xf1\\x88\\x86\\xce,\\\\,\\x9dp|\\xbdX.\\xd3\\x99\\x17x\\xd7\\xdf\\x07O\\xcd_<4\\xcd\\xcb\\x08J\\xfb\\xe3y\\xc5\\xe19\\xd2]\\xb2\\x1d\\xf9\\xfb\\xa3-\\xc6\\x83MK\\xbf\\xb9\\x0b\\x80\\xf6\\x90\\xfb,\\x98xW\\xa1\\xef9\\xe9\\xc8\\xf3\\x9d\\xf1\\x84L\\x9d\\xe9d\\x14:i\\xe8\\x07\\xcb\\xc9xq\\x13\\xa6\\xe1\\x80{x\\xe6\\x83\\xe4\\xb9\\xbe\\xdf>m\\x96|87LP\\xced\\xafU\\xaf\\xd0\\xd0\\n\"\\xc1\\xf6\\x17I\\xb8\\xbd\\x12\\xee\\xf1\\xdf\\x8e\\xe4\\x07\\x00\\x00\\x00\\xff\\xff\\x03\\x00PK\\x03\\x04\\x14\\x00\\x06\\x00\\x08\\x00\\x00\\x00!\\x003\\xcc\\xbb\\xf0\\xfb\\x00\\x00\\x00/\\x02\\x00\\x00\\x14\\x00\\x00\\x00xl/sharedStrings.xmll\\x91\\xc1J\\x041\\x0c\\x86\\xef\\x82\\xefPzw;;\\x07Q\\x99\\xe9\\xe2\\nz\\x10e\\x0f\\xbb\\x88\\xc7\\xec4\\xce\\x14\\xa6\\xe9\\xd8\\xb4\\xe2\\xbe\\xbd\\x15=H\\xeb1_\\xbe\\x10\\xfe\\xa4\\xdb|\\xbaY|``\\xeb\\xa9\\x97\\xebU#\\x05\\xd2\\xe0\\x8d\\xa5\\xb1\\x97\\x87\\xfd\\xfd\\xc5\\x95\\x14\\x1c\\x81\\x0c\\xcc\\x9e\\xb0\\x97\\'d\\xb9\\xd1\\xe7g\\x1ds\\x14y\\x96\\xb8\\x97S\\x8c\\xcb\\x8dR<L\\xe8\\x80W~A\\xca\\x9d7\\x1f\\x1c\\xc4\\\\\\x86Q\\xf1\\x12\\x10\\x0cO\\x88\\xd1\\xcd\\xaam\\x9aK\\xe5\\xc0\\x92\\x14\\x83O\\x14{\\xd9\\xb6R$\\xb2\\xef\\t\\xef~\\xc0\\xfaZ\\xea\\x8e\\xad\\xee\\xa2~\\xf6\\x9d\\x8a\\xbaS\\xdf\\xd5/\\x01\\x07%\\xbbe\\x98K\\xf6\\x80d0\\x94\\xf4\\xe0R\\xc5\\xb6\\x18 \\x96\\xe2>\\xdf`\\xb4%}\\x85S\\xaa\\x19\\x99Z\\xcc\\x81\\xfe\\x19\\x06\\xaa r%\\xee`\\xb0\\xf9\\xea\\xa5\\xba\\x9d}\\xa8\\xa2?\\x81\\xb1\\xa9V\\xfd\\xe8\\xab\\x9c\\x8fxL\\x0e+\\xf7\\x05(o+\\x97\\xed\\x82\\xfd\\xc3T~\\xb8\\xfe\\x02\\x00\\x00\\xff\\xff\\x03\\x00PK\\x03\\x04\\x14\\x00\\x06\\x00\\x08\\x00\\x00\\x00!\\x00\\xb9 \\xd9\\x18R\\x01\\x00\\x00{\\x02\\x00\\x00\\x11\\x00\\x08\\x01docProps/core.xml \\xa2\\x04\\x01(\\xa0\\x00\\x01\\x00\\x00\\x00\\x00\\x00\\x00\\x00\\x00\\x00\\x00\\x00\\x00\\x00\\x00\\x00\\x00\\x00\\x00\\x00\\x00\\x00\\x00\\x00\\x00\\x00\\x00\\x00\\x00\\x00\\x00\\x00\\x00\\x00\\x00\\x00\\x00\\x00\\x00\\x00\\x00\\x00\\x00\\x00\\x00\\x00\\x00\\x00\\x00\\x00\\x00\\x00\\x00\\x00\\x00\\x00\\x00\\x00\\x00\\x00\\x00\\x00\\x00\\x00\\x00\\x00\\x00\\x00\\x00\\x00\\x00\\x00\\x00\\x00\\x00\\x00\\x00\\x00\\x00\\x00\\x00\\x00\\x00\\x00\\x00\\x00\\x00\\x00\\x00\\x00\\x00\\x00\\x00\\x00\\x00\\x00\\x00\\x00\\x00\\x00\\x00\\x00\\x00\\x00\\x00\\x00\\x00\\x00\\x00\\x00\\x00\\x00\\x00\\x00\\x00\\x00\\x00\\x00\\x00\\x00\\x00\\x00\\x00\\x00\\x00\\x00\\x00\\x00\\x00\\x00\\x00\\x00\\x00\\x00\\x00\\x00\\x00\\x00\\x00\\x00\\x00\\x00\\x00\\x00\\x00\\x00\\x00\\x00\\x00\\x00\\x00\\x00\\x00\\x00\\x00\\x00\\x00\\x00\\x00\\x00\\x00\\x00\\x00\\x00\\x00\\x00\\x00\\x00\\x00\\x00\\x00\\x00\\x00\\x00\\x00\\x00\\x00\\x00\\x00\\x00\\x00\\x00\\x00\\x00\\x00\\x00\\x00\\x00\\x00\\x00\\x00\\x00\\x00\\x00\\x00\\x00\\x00\\x00\\x00\\x00\\x00\\x00\\x00\\x00\\x00\\x00\\x00\\x00\\x00\\x00\\x00\\x00\\x00\\x00\\x00\\x00\\x00\\x00\\x00\\x00\\x00\\x00\\x00\\x00\\x00\\x00\\x00\\x00\\x00\\x00\\x00\\x00\\x00\\x00\\x00\\x00\\x00\\x00\\x00\\x00\\x00\\x00\\x00\\x00\\x00\\x00\\x00\\x00\\x00\\x00\\x00\\x00\\x00\\x00\\x00\\x00\\x00\\x8c\\x92]O\\x830\\x18\\x85\\xefM\\xfc\\x0f\\xa4\\xf7P\\xd8\\xa7\\x12`\\xc1\\x8f\\xc5%\\xc3\\xcc9\\xa3\\xd9]\\xd3\\xbe\\xdb\\x88P\\x9a\\xb6\\xca\\xf6\\xef-\\xb0!f\\x9ax\\xd9\\x9e\\xf3>=\\xe7M\\x83\\xc9>\\xcf\\xacO\\x90*-x\\x88<\\xc7E\\x16pZ\\xb0\\x94oC\\xf4\\xb2\\x9a\\xdaW\\xc8R\\x9apF\\xb2\\x82C\\x88\\x0e\\xa0\\xd0$\\xba\\xbc\\x08\\xa8\\xf0i!a!\\x0b\\x01R\\xa7\\xa0,C\\xe2\\xca\\xa7\"D;\\xad\\x85\\x8f\\xb1\\xa2;\\xc8\\x89r\\x8c\\x83\\x1bqS\\xc8\\x9chs\\x94[,\\x08}\\'[\\xc0=\\xd7\\x1d\\xe1\\x1c4aD\\x13\\\\\\x01m\\xd1\\x12\\xd1\\x11\\xc9h\\x8b\\x14\\x1f2\\xab\\x01\\x8cb\\xc8 \\x07\\xae\\x15\\xf6\\x1c\\x0f\\x7f{5\\xc8\\\\\\xfd:P+\\x1dg\\x9e\\xea\\x830\\x9d\\x8eq\\xbblF\\x1b\\xb1u\\xefU\\xda\\x1a\\xcb\\xb2t\\xca~\\x1d\\xc3\\xe4\\xf7\\xf0[2\\x7f\\xae\\xab\\xda)\\xafvE\\x01E\\x01\\xa3>\\x95@t!\\xa3E\\x9c\\xdc\\xcfck9[?\\xcd\\xac$~\\x88\\x97\\xf1\\xe3,\\xc0\\x1dG\\xb5\\xcd\\x8c(\\x9d\\x98\\xc5oR`7\\x87\\xbf\\x86\\xce\\x8d\\xe6\\xa5\\xbaX\\xf3\\x1c0\\xcbD\\xf5\\x9bb\\'\\xe5\\xb5\\x7f{\\xb7\\x9a\\xa2\\xa8\\xe7\\xf6\\x06\\xb6;\\xb0\\xbd\\xf1\\xca\\x1b\\xfb\\xfd\\xa1\\xef\\x8d\\xd6U\\x8e\\x1f\\xf3U\\xf4\\xe6\"?\\xa6\\xf9?\\xf1\\xda\\x1f\\x0c;\\xc4\\x13 \\n\\xf0\\xd9w\\x89\\xbe\\x00\\x00\\x00\\xff\\xff\\x03\\x00PK\\x03\\x04\\x14\\x00\\x06\\x00\\x08\\x00\\x00\\x00!\\x00aI\\t\\x10\\x89\\x01\\x00\\x00\\x11\\x03\\x00\\x00\\x10\\x00\\x08\\x01docProps/app.xml \\xa2\\x04\\x01(\\xa0\\x00\\x01\\x00\\x00\\x00\\x00\\x00\\x00\\x00\\x00\\x00\\x00\\x00\\x00\\x00\\x00\\x00\\x00\\x00\\x00\\x00\\x00\\x00\\x00\\x00\\x00\\x00\\x00\\x00\\x00\\x00\\x00\\x00\\x00\\x00\\x00\\x00\\x00\\x00\\x00\\x00\\x00\\x00\\x00\\x00\\x00\\x00\\x00\\x00\\x00\\x00\\x00\\x00\\x00\\x00\\x00\\x00\\x00\\x00\\x00\\x00\\x00\\x00\\x00\\x00\\x00\\x00\\x00\\x00\\x00\\x00\\x00\\x00\\x00\\x00\\x00\\x00\\x00\\x00\\x00\\x00\\x00\\x00\\x00\\x00\\x00\\x00\\x00\\x00\\x00\\x00\\x00\\x00\\x00\\x00\\x00\\x00\\x00\\x00\\x00\\x00\\x00\\x00\\x00\\x00\\x00\\x00\\x00\\x00\\x00\\x00\\x00\\x00\\x00\\x00\\x00\\x00\\x00\\x00\\x00\\x00\\x00\\x00\\x00\\x00\\x00\\x00\\x00\\x00\\x00\\x00\\x00\\x00\\x00\\x00\\x00\\x00\\x00\\x00\\x00\\x00\\x00\\x00\\x00\\x00\\x00\\x00\\x00\\x00\\x00\\x00\\x00\\x00\\x00\\x00\\x00\\x00\\x00\\x00\\x00\\x00\\x00\\x00\\x00\\x00\\x00\\x00\\x00\\x00\\x00\\x00\\x00\\x00\\x00\\x00\\x00\\x00\\x00\\x00\\x00\\x00\\x00\\x00\\x00\\x00\\x00\\x00\\x00\\x00\\x00\\x00\\x00\\x00\\x00\\x00\\x00\\x00\\x00\\x00\\x00\\x00\\x00\\x00\\x00\\x00\\x00\\x00\\x00\\x00\\x00\\x00\\x00\\x00\\x00\\x00\\x00\\x00\\x00\\x00\\x00\\x00\\x00\\x00\\x00\\x00\\x00\\x00\\x00\\x00\\x00\\x00\\x00\\x00\\x00\\x00\\x00\\x00\\x00\\x00\\x00\\x00\\x00\\x00\\x00\\x00\\x00\\x00\\x00\\x00\\x00\\x00\\x00\\x00\\x00\\x00\\x00\\x00\\x00\\x9c\\x92Ao\\xdb0\\x0c\\x85\\xef\\x03\\xfa\\x1f\\x0c\\xdd\\x1b9\\xddP\\x0c\\x81\\xacbHW\\xf4\\xb0a\\x01\\x92\\xb6gM\\xa6c\\xa1\\xb2$\\x88\\xac\\x91\\xec\\xd7\\x8f\\xb6\\xd1\\xd4\\xd9z\\xea\\x8d\\xe4{x\\xfaDI\\xdd\\x1c:_\\xf4\\x90\\xd1\\xc5P\\x89\\xe5\\xa2\\x14\\x05\\x04\\x1bk\\x17\\xf6\\x95x\\xd8\\xdd]~\\x15\\x05\\x92\\t\\xb5\\xf11@%\\x8e\\x80\\xe2F_|R\\x9b\\x1c\\x13dr\\x80\\x05G\\x04\\xacDK\\x94VR\\xa2m\\xa13\\xb8`9\\xb0\\xd2\\xc4\\xdc\\x19\\xe26\\xefel\\x1ag\\xe16\\xda\\x97\\x0e\\x02\\xc9\\xab\\xb2\\xbc\\x96p \\x085\\xd4\\x97\\xe9\\x14(\\xa6\\xc4UO\\x1f\\r\\xad\\xa3\\x1d\\xf8\\xf0qwL\\x0c\\xac\\xd5\\xb7\\x94\\xbc\\xb3\\x86\\xf8\\x96\\xfa\\xa7\\xb39bl\\xa8\\xf8~\\xb0\\xe0\\x95\\x9c\\x8b\\x8a\\xe9\\xb6`_\\xb2\\xa3\\xa3.\\x95\\x9c\\xb7jk\\x8d\\x875\\x07\\xeb\\xc6x\\x04%\\xdf\\x06\\xea\\x1e\\xcc\\xb0\\xb4\\x8dq\\x19\\xb5\\xeai\\xd5\\x83\\xa5\\x98\\x0bt\\x7fxmW\\xa2\\xf8m\\x10\\x06\\x9cJ\\xf4&;\\x13\\x88\\xb1\\x06\\xdb\\xd4\\x8c\\xb5OHY?\\xc5\\xfc\\x8c-\\x00\\xa1\\x92l\\x98\\x86c9\\xf7\\xcek\\xf7E/G\\x03\\x17\\xe7\\xc6!`\\x02a\\xe1\\x1cq\\xe7\\xc8\\x03\\xfej6&\\xd3;\\xc4\\xcb9\\xf1\\xc80\\xf1N8\\xdb\\x81o:s\\xce7^\\x99O\\xfa\\'{\\x1d\\xbbd\\xc2\\x91\\x85S\\xf5\\xc3\\x85g|H\\xbbxk\\x08^\\xd7y>T\\xdb\\xd6d\\xa8\\xf9\\x05N\\xeb>\\r\\xd4=o2\\xfb!d\\xdd\\x9a\\xb0\\x87\\xfa\\xd5\\xf3\\xbf0<\\xfe\\xe3\\xf4\\xc3\\xf5\\xf2zQ~.\\xf9]g3%\\xdf\\xfe\\xb2\\xfe\\x0b\\x00\\x00\\xff\\xff\\x03\\x00PK\\x01\\x02-\\x00\\x14\\x00\\x06\\x00\\x08\\x00\\x00\\x00!\\x00b\\xee\\x9dh^\\x01\\x00\\x00\\x90\\x04\\x00\\x00\\x13\\x00\\x00\\x00\\x00\\x00\\x00\\x00\\x00\\x00\\x00\\x00\\x00\\x00\\x00\\x00\\x00\\x00[Content_Types].xmlPK\\x01\\x02-\\x00\\x14\\x00\\x06\\x00\\x08\\x00\\x00\\x00!\\x00\\xb5U0#\\xf4\\x00\\x00\\x00L\\x02\\x00\\x00\\x0b\\x00\\x00\\x00\\x00\\x00\\x00\\x00\\x00\\x00\\x00\\x00\\x00\\x00\\x97\\x03\\x00\\x00_rels/.relsPK\\x01\\x02-\\x00\\x14\\x00\\x06\\x00\\x08\\x00\\x00\\x00!\\x00!\\x1e\\xbcm\\xb1\\x03\\x00\\x00+\\t\\x00\\x00\\x0f\\x00\\x00\\x00\\x00\\x00\\x00\\x00\\x00\\x00\\x00\\x00\\x00\\x00\\xbc\\x06\\x00\\x00xl/workbook.xmlPK\\x01\\x02-\\x00\\x14\\x00\\x06\\x00\\x08\\x00\\x00\\x00!\\x00\\x81>\\x94\\x97\\xf3\\x00\\x00\\x00\\xba\\x02\\x00\\x00\\x1a\\x00\\x00\\x00\\x00\\x00\\x00\\x00\\x00\\x00\\x00\\x00\\x00\\x00\\x9a\\n\\x00\\x00xl/_rels/workbook.xml.relsPK\\x01\\x02-\\x00\\x14\\x00\\x06\\x00\\x08\\x00\\x00\\x00!\\x00B\\x12\\xf9\\nW\\x03\\x00\\x00Z\\n\\x00\\x00\\x18\\x00\\x00\\x00\\x00\\x00\\x00\\x00\\x00\\x00\\x00\\x00\\x00\\x00\\xcd\\x0c\\x00\\x00xl/worksheets/sheet1.xmlPK\\x01\\x02-\\x00\\x14\\x00\\x06\\x00\\x08\\x00\\x00\\x00!\\x00\\xf6`\\xb4A\\xb8\\x07\\x00\\x00\\x11\"\\x00\\x00\\x13\\x00\\x00\\x00\\x00\\x00\\x00\\x00\\x00\\x00\\x00\\x00\\x00\\x00Z\\x10\\x00\\x00xl/theme/theme1.xmlPK\\x01\\x02-\\x00\\x14\\x00\\x06\\x00\\x08\\x00\\x00\\x00!\\x00\\xbc@g\\x8d+\\x03\\x00\\x00\\xbc\\x08\\x00\\x00\\r\\x00\\x00\\x00\\x00\\x00\\x00\\x00\\x00\\x00\\x00\\x00\\x00\\x00C\\x18\\x00\\x00xl/styles.xmlPK\\x01\\x02-\\x00\\x14\\x00\\x06\\x00\\x08\\x00\\x00\\x00!\\x003\\xcc\\xbb\\xf0\\xfb\\x00\\x00\\x00/\\x02\\x00\\x00\\x14\\x00\\x00\\x00\\x00\\x00\\x00\\x00\\x00\\x00\\x00\\x00\\x00\\x00\\x99\\x1b\\x00\\x00xl/sharedStrings.xmlPK\\x01\\x02-\\x00\\x14\\x00\\x06\\x00\\x08\\x00\\x00\\x00!\\x00\\xb9 \\xd9\\x18R\\x01\\x00\\x00{\\x02\\x00\\x00\\x11\\x00\\x00\\x00\\x00\\x00\\x00\\x00\\x00\\x00\\x00\\x00\\x00\\x00\\xc6\\x1c\\x00\\x00docProps/core.xmlPK\\x01\\x02-\\x00\\x14\\x00\\x06\\x00\\x08\\x00\\x00\\x00!\\x00aI\\t\\x10\\x89\\x01\\x00\\x00\\x11\\x03\\x00\\x00\\x10\\x00\\x00\\x00\\x00\\x00\\x00\\x00\\x00\\x00\\x00\\x00\\x00\\x00O\\x1f\\x00\\x00docProps/app.xmlPK\\x05\\x06\\x00\\x00\\x00\\x00\\n\\x00\\n\\x00\\x80\\x02\\x00\\x00\\x0e\"\\x00\\x00\\x00\\x00'}"
            ]
          },
          "metadata": {},
          "execution_count": 2
        }
      ]
    },
    {
      "cell_type": "code",
      "source": [
        "df=pd.read_excel('Data Datik 8.xlsx')"
      ],
      "metadata": {
        "id": "ZCrFVZHmNUHR"
      },
      "execution_count": null,
      "outputs": []
    },
    {
      "cell_type": "code",
      "source": [
        "df.head()"
      ],
      "metadata": {
        "colab": {
          "base_uri": "https://localhost:8080/",
          "height": 206
        },
        "id": "dGbCSWVnOFqZ",
        "outputId": "8c795f27-6afd-495a-bd1a-1703b6d82c81"
      },
      "execution_count": null,
      "outputs": [
        {
          "output_type": "execute_result",
          "data": {
            "text/plain": [
              "   No   Nama     Asal  Gender  Umur  Berat  Tinggi\n",
              "0   1   Yayu  Kebumen  Wanita    23     65     165\n",
              "1   2  Yandi    Bogor    Pria    24     56     170\n",
              "2   3   Yuni   Madiun  Wanita    22     60     162\n",
              "3   4  Yayan    Blora    Pria    23     52     165\n",
              "4   5   Yesi  Pacitan  Wanita    24     57     160"
            ],
            "text/html": [
              "\n",
              "  <div id=\"df-630af0c2-22d6-4efb-b7ed-6ec19b05072e\" class=\"colab-df-container\">\n",
              "    <div>\n",
              "<style scoped>\n",
              "    .dataframe tbody tr th:only-of-type {\n",
              "        vertical-align: middle;\n",
              "    }\n",
              "\n",
              "    .dataframe tbody tr th {\n",
              "        vertical-align: top;\n",
              "    }\n",
              "\n",
              "    .dataframe thead th {\n",
              "        text-align: right;\n",
              "    }\n",
              "</style>\n",
              "<table border=\"1\" class=\"dataframe\">\n",
              "  <thead>\n",
              "    <tr style=\"text-align: right;\">\n",
              "      <th></th>\n",
              "      <th>No</th>\n",
              "      <th>Nama</th>\n",
              "      <th>Asal</th>\n",
              "      <th>Gender</th>\n",
              "      <th>Umur</th>\n",
              "      <th>Berat</th>\n",
              "      <th>Tinggi</th>\n",
              "    </tr>\n",
              "  </thead>\n",
              "  <tbody>\n",
              "    <tr>\n",
              "      <th>0</th>\n",
              "      <td>1</td>\n",
              "      <td>Yayu</td>\n",
              "      <td>Kebumen</td>\n",
              "      <td>Wanita</td>\n",
              "      <td>23</td>\n",
              "      <td>65</td>\n",
              "      <td>165</td>\n",
              "    </tr>\n",
              "    <tr>\n",
              "      <th>1</th>\n",
              "      <td>2</td>\n",
              "      <td>Yandi</td>\n",
              "      <td>Bogor</td>\n",
              "      <td>Pria</td>\n",
              "      <td>24</td>\n",
              "      <td>56</td>\n",
              "      <td>170</td>\n",
              "    </tr>\n",
              "    <tr>\n",
              "      <th>2</th>\n",
              "      <td>3</td>\n",
              "      <td>Yuni</td>\n",
              "      <td>Madiun</td>\n",
              "      <td>Wanita</td>\n",
              "      <td>22</td>\n",
              "      <td>60</td>\n",
              "      <td>162</td>\n",
              "    </tr>\n",
              "    <tr>\n",
              "      <th>3</th>\n",
              "      <td>4</td>\n",
              "      <td>Yayan</td>\n",
              "      <td>Blora</td>\n",
              "      <td>Pria</td>\n",
              "      <td>23</td>\n",
              "      <td>52</td>\n",
              "      <td>165</td>\n",
              "    </tr>\n",
              "    <tr>\n",
              "      <th>4</th>\n",
              "      <td>5</td>\n",
              "      <td>Yesi</td>\n",
              "      <td>Pacitan</td>\n",
              "      <td>Wanita</td>\n",
              "      <td>24</td>\n",
              "      <td>57</td>\n",
              "      <td>160</td>\n",
              "    </tr>\n",
              "  </tbody>\n",
              "</table>\n",
              "</div>\n",
              "    <div class=\"colab-df-buttons\">\n",
              "\n",
              "  <div class=\"colab-df-container\">\n",
              "    <button class=\"colab-df-convert\" onclick=\"convertToInteractive('df-630af0c2-22d6-4efb-b7ed-6ec19b05072e')\"\n",
              "            title=\"Convert this dataframe to an interactive table.\"\n",
              "            style=\"display:none;\">\n",
              "\n",
              "  <svg xmlns=\"http://www.w3.org/2000/svg\" height=\"24px\" viewBox=\"0 -960 960 960\">\n",
              "    <path d=\"M120-120v-720h720v720H120Zm60-500h600v-160H180v160Zm220 220h160v-160H400v160Zm0 220h160v-160H400v160ZM180-400h160v-160H180v160Zm440 0h160v-160H620v160ZM180-180h160v-160H180v160Zm440 0h160v-160H620v160Z\"/>\n",
              "  </svg>\n",
              "    </button>\n",
              "\n",
              "  <style>\n",
              "    .colab-df-container {\n",
              "      display:flex;\n",
              "      gap: 12px;\n",
              "    }\n",
              "\n",
              "    .colab-df-convert {\n",
              "      background-color: #E8F0FE;\n",
              "      border: none;\n",
              "      border-radius: 50%;\n",
              "      cursor: pointer;\n",
              "      display: none;\n",
              "      fill: #1967D2;\n",
              "      height: 32px;\n",
              "      padding: 0 0 0 0;\n",
              "      width: 32px;\n",
              "    }\n",
              "\n",
              "    .colab-df-convert:hover {\n",
              "      background-color: #E2EBFA;\n",
              "      box-shadow: 0px 1px 2px rgba(60, 64, 67, 0.3), 0px 1px 3px 1px rgba(60, 64, 67, 0.15);\n",
              "      fill: #174EA6;\n",
              "    }\n",
              "\n",
              "    .colab-df-buttons div {\n",
              "      margin-bottom: 4px;\n",
              "    }\n",
              "\n",
              "    [theme=dark] .colab-df-convert {\n",
              "      background-color: #3B4455;\n",
              "      fill: #D2E3FC;\n",
              "    }\n",
              "\n",
              "    [theme=dark] .colab-df-convert:hover {\n",
              "      background-color: #434B5C;\n",
              "      box-shadow: 0px 1px 3px 1px rgba(0, 0, 0, 0.15);\n",
              "      filter: drop-shadow(0px 1px 2px rgba(0, 0, 0, 0.3));\n",
              "      fill: #FFFFFF;\n",
              "    }\n",
              "  </style>\n",
              "\n",
              "    <script>\n",
              "      const buttonEl =\n",
              "        document.querySelector('#df-630af0c2-22d6-4efb-b7ed-6ec19b05072e button.colab-df-convert');\n",
              "      buttonEl.style.display =\n",
              "        google.colab.kernel.accessAllowed ? 'block' : 'none';\n",
              "\n",
              "      async function convertToInteractive(key) {\n",
              "        const element = document.querySelector('#df-630af0c2-22d6-4efb-b7ed-6ec19b05072e');\n",
              "        const dataTable =\n",
              "          await google.colab.kernel.invokeFunction('convertToInteractive',\n",
              "                                                    [key], {});\n",
              "        if (!dataTable) return;\n",
              "\n",
              "        const docLinkHtml = 'Like what you see? Visit the ' +\n",
              "          '<a target=\"_blank\" href=https://colab.research.google.com/notebooks/data_table.ipynb>data table notebook</a>'\n",
              "          + ' to learn more about interactive tables.';\n",
              "        element.innerHTML = '';\n",
              "        dataTable['output_type'] = 'display_data';\n",
              "        await google.colab.output.renderOutput(dataTable, element);\n",
              "        const docLink = document.createElement('div');\n",
              "        docLink.innerHTML = docLinkHtml;\n",
              "        element.appendChild(docLink);\n",
              "      }\n",
              "    </script>\n",
              "  </div>\n",
              "\n",
              "\n",
              "<div id=\"df-36c48e42-607f-4f7b-b12d-5b8ccbbc9c5e\">\n",
              "  <button class=\"colab-df-quickchart\" onclick=\"quickchart('df-36c48e42-607f-4f7b-b12d-5b8ccbbc9c5e')\"\n",
              "            title=\"Suggest charts\"\n",
              "            style=\"display:none;\">\n",
              "\n",
              "<svg xmlns=\"http://www.w3.org/2000/svg\" height=\"24px\"viewBox=\"0 0 24 24\"\n",
              "     width=\"24px\">\n",
              "    <g>\n",
              "        <path d=\"M19 3H5c-1.1 0-2 .9-2 2v14c0 1.1.9 2 2 2h14c1.1 0 2-.9 2-2V5c0-1.1-.9-2-2-2zM9 17H7v-7h2v7zm4 0h-2V7h2v10zm4 0h-2v-4h2v4z\"/>\n",
              "    </g>\n",
              "</svg>\n",
              "  </button>\n",
              "\n",
              "<style>\n",
              "  .colab-df-quickchart {\n",
              "      --bg-color: #E8F0FE;\n",
              "      --fill-color: #1967D2;\n",
              "      --hover-bg-color: #E2EBFA;\n",
              "      --hover-fill-color: #174EA6;\n",
              "      --disabled-fill-color: #AAA;\n",
              "      --disabled-bg-color: #DDD;\n",
              "  }\n",
              "\n",
              "  [theme=dark] .colab-df-quickchart {\n",
              "      --bg-color: #3B4455;\n",
              "      --fill-color: #D2E3FC;\n",
              "      --hover-bg-color: #434B5C;\n",
              "      --hover-fill-color: #FFFFFF;\n",
              "      --disabled-bg-color: #3B4455;\n",
              "      --disabled-fill-color: #666;\n",
              "  }\n",
              "\n",
              "  .colab-df-quickchart {\n",
              "    background-color: var(--bg-color);\n",
              "    border: none;\n",
              "    border-radius: 50%;\n",
              "    cursor: pointer;\n",
              "    display: none;\n",
              "    fill: var(--fill-color);\n",
              "    height: 32px;\n",
              "    padding: 0;\n",
              "    width: 32px;\n",
              "  }\n",
              "\n",
              "  .colab-df-quickchart:hover {\n",
              "    background-color: var(--hover-bg-color);\n",
              "    box-shadow: 0 1px 2px rgba(60, 64, 67, 0.3), 0 1px 3px 1px rgba(60, 64, 67, 0.15);\n",
              "    fill: var(--button-hover-fill-color);\n",
              "  }\n",
              "\n",
              "  .colab-df-quickchart-complete:disabled,\n",
              "  .colab-df-quickchart-complete:disabled:hover {\n",
              "    background-color: var(--disabled-bg-color);\n",
              "    fill: var(--disabled-fill-color);\n",
              "    box-shadow: none;\n",
              "  }\n",
              "\n",
              "  .colab-df-spinner {\n",
              "    border: 2px solid var(--fill-color);\n",
              "    border-color: transparent;\n",
              "    border-bottom-color: var(--fill-color);\n",
              "    animation:\n",
              "      spin 1s steps(1) infinite;\n",
              "  }\n",
              "\n",
              "  @keyframes spin {\n",
              "    0% {\n",
              "      border-color: transparent;\n",
              "      border-bottom-color: var(--fill-color);\n",
              "      border-left-color: var(--fill-color);\n",
              "    }\n",
              "    20% {\n",
              "      border-color: transparent;\n",
              "      border-left-color: var(--fill-color);\n",
              "      border-top-color: var(--fill-color);\n",
              "    }\n",
              "    30% {\n",
              "      border-color: transparent;\n",
              "      border-left-color: var(--fill-color);\n",
              "      border-top-color: var(--fill-color);\n",
              "      border-right-color: var(--fill-color);\n",
              "    }\n",
              "    40% {\n",
              "      border-color: transparent;\n",
              "      border-right-color: var(--fill-color);\n",
              "      border-top-color: var(--fill-color);\n",
              "    }\n",
              "    60% {\n",
              "      border-color: transparent;\n",
              "      border-right-color: var(--fill-color);\n",
              "    }\n",
              "    80% {\n",
              "      border-color: transparent;\n",
              "      border-right-color: var(--fill-color);\n",
              "      border-bottom-color: var(--fill-color);\n",
              "    }\n",
              "    90% {\n",
              "      border-color: transparent;\n",
              "      border-bottom-color: var(--fill-color);\n",
              "    }\n",
              "  }\n",
              "</style>\n",
              "\n",
              "  <script>\n",
              "    async function quickchart(key) {\n",
              "      const quickchartButtonEl =\n",
              "        document.querySelector('#' + key + ' button');\n",
              "      quickchartButtonEl.disabled = true;  // To prevent multiple clicks.\n",
              "      quickchartButtonEl.classList.add('colab-df-spinner');\n",
              "      try {\n",
              "        const charts = await google.colab.kernel.invokeFunction(\n",
              "            'suggestCharts', [key], {});\n",
              "      } catch (error) {\n",
              "        console.error('Error during call to suggestCharts:', error);\n",
              "      }\n",
              "      quickchartButtonEl.classList.remove('colab-df-spinner');\n",
              "      quickchartButtonEl.classList.add('colab-df-quickchart-complete');\n",
              "    }\n",
              "    (() => {\n",
              "      let quickchartButtonEl =\n",
              "        document.querySelector('#df-36c48e42-607f-4f7b-b12d-5b8ccbbc9c5e button');\n",
              "      quickchartButtonEl.style.display =\n",
              "        google.colab.kernel.accessAllowed ? 'block' : 'none';\n",
              "    })();\n",
              "  </script>\n",
              "</div>\n",
              "    </div>\n",
              "  </div>\n"
            ],
            "application/vnd.google.colaboratory.intrinsic+json": {
              "type": "dataframe",
              "variable_name": "df",
              "summary": "{\n  \"name\": \"df\",\n  \"rows\": 5,\n  \"fields\": [\n    {\n      \"column\": \"No\",\n      \"properties\": {\n        \"dtype\": \"number\",\n        \"std\": 1,\n        \"min\": 1,\n        \"max\": 5,\n        \"num_unique_values\": 5,\n        \"samples\": [\n          2,\n          5,\n          3\n        ],\n        \"semantic_type\": \"\",\n        \"description\": \"\"\n      }\n    },\n    {\n      \"column\": \"Nama\",\n      \"properties\": {\n        \"dtype\": \"string\",\n        \"num_unique_values\": 5,\n        \"samples\": [\n          \"Yandi\",\n          \"Yesi\",\n          \"Yuni\"\n        ],\n        \"semantic_type\": \"\",\n        \"description\": \"\"\n      }\n    },\n    {\n      \"column\": \"Asal\",\n      \"properties\": {\n        \"dtype\": \"string\",\n        \"num_unique_values\": 5,\n        \"samples\": [\n          \"Bogor\",\n          \"Pacitan\",\n          \"Madiun\"\n        ],\n        \"semantic_type\": \"\",\n        \"description\": \"\"\n      }\n    },\n    {\n      \"column\": \"Gender\",\n      \"properties\": {\n        \"dtype\": \"category\",\n        \"num_unique_values\": 2,\n        \"samples\": [\n          \"Pria\",\n          \"Wanita\"\n        ],\n        \"semantic_type\": \"\",\n        \"description\": \"\"\n      }\n    },\n    {\n      \"column\": \"Umur\",\n      \"properties\": {\n        \"dtype\": \"number\",\n        \"std\": 0,\n        \"min\": 22,\n        \"max\": 24,\n        \"num_unique_values\": 3,\n        \"samples\": [\n          23,\n          24\n        ],\n        \"semantic_type\": \"\",\n        \"description\": \"\"\n      }\n    },\n    {\n      \"column\": \"Berat\",\n      \"properties\": {\n        \"dtype\": \"number\",\n        \"std\": 4,\n        \"min\": 52,\n        \"max\": 65,\n        \"num_unique_values\": 5,\n        \"samples\": [\n          56,\n          57\n        ],\n        \"semantic_type\": \"\",\n        \"description\": \"\"\n      }\n    },\n    {\n      \"column\": \"Tinggi\",\n      \"properties\": {\n        \"dtype\": \"number\",\n        \"std\": 3,\n        \"min\": 160,\n        \"max\": 170,\n        \"num_unique_values\": 4,\n        \"samples\": [\n          170,\n          160\n        ],\n        \"semantic_type\": \"\",\n        \"description\": \"\"\n      }\n    }\n  ]\n}"
            }
          },
          "metadata": {},
          "execution_count": 6
        }
      ]
    },
    {
      "cell_type": "code",
      "source": [
        "df_sub=df[0:3]\n",
        "print(df_sub)"
      ],
      "metadata": {
        "colab": {
          "base_uri": "https://localhost:8080/"
        },
        "id": "y89M-w1uOX__",
        "outputId": "f0056a52-f864-415c-eb37-646e97073762"
      },
      "execution_count": null,
      "outputs": [
        {
          "output_type": "stream",
          "name": "stdout",
          "text": [
            "   No   Nama     Asal  Gender  Umur  Berat  Tinggi\n",
            "0   1   Yayu  Kebumen  Wanita    23     65     165\n",
            "1   2  Yandi    Bogor    Pria    24     56     170\n",
            "2   3   Yuni   Madiun  Wanita    22     60     162\n"
          ]
        }
      ]
    },
    {
      "cell_type": "code",
      "source": [
        "df.dtypes"
      ],
      "metadata": {
        "colab": {
          "base_uri": "https://localhost:8080/"
        },
        "id": "ioTGMUaoP_OU",
        "outputId": "02c634f9-add1-41f9-a532-62a7421bcf18"
      },
      "execution_count": null,
      "outputs": [
        {
          "output_type": "execute_result",
          "data": {
            "text/plain": [
              "No         int64\n",
              "Nama      object\n",
              "Asal      object\n",
              "Gender    object\n",
              "Umur       int64\n",
              "Berat      int64\n",
              "Tinggi     int64\n",
              "dtype: object"
            ]
          },
          "metadata": {},
          "execution_count": 11
        }
      ]
    },
    {
      "cell_type": "code",
      "source": [
        "df_sub=df.loc[0:4,['Nama','Umur']]\n",
        "print(df_sub)"
      ],
      "metadata": {
        "colab": {
          "base_uri": "https://localhost:8080/"
        },
        "id": "9cT0qq3WQEe5",
        "outputId": "f1447056-9495-4e60-a3e2-18ca76050062"
      },
      "execution_count": null,
      "outputs": [
        {
          "output_type": "stream",
          "name": "stdout",
          "text": [
            "    Nama  Umur\n",
            "0   Yayu    23\n",
            "1  Yandi    24\n",
            "2   Yuni    22\n",
            "3  Yayan    23\n",
            "4   Yesi    24\n"
          ]
        }
      ]
    },
    {
      "cell_type": "code",
      "source": [
        "df_sorted=df.sort_values(by='Umur')\n",
        "print(df_sorted)"
      ],
      "metadata": {
        "colab": {
          "base_uri": "https://localhost:8080/"
        },
        "id": "aUDTwZIYRSa4",
        "outputId": "2c8fcd1e-fcb6-40a8-9914-896f2b4307d0"
      },
      "execution_count": null,
      "outputs": [
        {
          "output_type": "stream",
          "name": "stdout",
          "text": [
            "   No   Nama     Asal  Gender  Umur  Berat  Tinggi\n",
            "2   3   Yuni   Madiun  Wanita    22     60     162\n",
            "0   1   Yayu  Kebumen  Wanita    23     65     165\n",
            "3   4  Yayan    Blora    Pria    23     52     165\n",
            "1   2  Yandi    Bogor    Pria    24     56     170\n",
            "4   5   Yesi  Pacitan  Wanita    24     57     160\n"
          ]
        }
      ]
    },
    {
      "cell_type": "code",
      "source": [
        "df_sub=df.loc[0:4,['Umur','Berat','Tinggi']]\n",
        "print(df_sub)"
      ],
      "metadata": {
        "colab": {
          "base_uri": "https://localhost:8080/"
        },
        "id": "XA8k3uSQSEs5",
        "outputId": "9fcac8b4-4cf2-40eb-c40a-b1000d25f5ec"
      },
      "execution_count": null,
      "outputs": [
        {
          "output_type": "stream",
          "name": "stdout",
          "text": [
            "   Umur  Berat  Tinggi\n",
            "0    23     65     165\n",
            "1    24     56     170\n",
            "2    22     60     162\n",
            "3    23     52     165\n",
            "4    24     57     160\n"
          ]
        }
      ]
    },
    {
      "cell_type": "code",
      "source": [
        "df_sub.mean()"
      ],
      "metadata": {
        "colab": {
          "base_uri": "https://localhost:8080/"
        },
        "id": "rEso2P9gWUET",
        "outputId": "004f2b7b-1d86-4606-a306-3ff9f5a5d34c"
      },
      "execution_count": null,
      "outputs": [
        {
          "output_type": "execute_result",
          "data": {
            "text/plain": [
              "Umur       23.2\n",
              "Berat      58.0\n",
              "Tinggi    164.4\n",
              "dtype: float64"
            ]
          },
          "metadata": {},
          "execution_count": 46
        }
      ]
    }
  ]
}